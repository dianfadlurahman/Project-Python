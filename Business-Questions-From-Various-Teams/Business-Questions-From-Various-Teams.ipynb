{
 "cells": [
  {
   "cell_type": "markdown",
   "id": "1bee418a",
   "metadata": {},
   "source": [
    "Anda akan ditugaskan dengan pertanyaan bisnis dari berbagai tim. Tugas Anda adalah memenuhi apa yang diinginkan oleh manajer Anda dari pertanyaan bisnis tersebut. Anda akan menggunakan dataset `stackoverflow.csv`."
   ]
  },
  {
   "cell_type": "markdown",
   "id": "8cc55dd2",
   "metadata": {},
   "source": [
    "## Import Libraries"
   ]
  },
  {
   "cell_type": "code",
   "execution_count": 1,
   "id": "b2f98e4f",
   "metadata": {},
   "outputs": [],
   "source": [
    "import pandas as pd\n",
    "import matplotlib.pyplot as plt\n",
    "import seaborn as sns"
   ]
  },
  {
   "cell_type": "markdown",
   "id": "1bd56b5b",
   "metadata": {},
   "source": [
    "## Import Data"
   ]
  },
  {
   "cell_type": "code",
   "execution_count": 2,
   "id": "8f5311dc",
   "metadata": {},
   "outputs": [
    {
     "data": {
      "text/html": [
       "<div>\n",
       "<style scoped>\n",
       "    .dataframe tbody tr th:only-of-type {\n",
       "        vertical-align: middle;\n",
       "    }\n",
       "\n",
       "    .dataframe tbody tr th {\n",
       "        vertical-align: top;\n",
       "    }\n",
       "\n",
       "    .dataframe thead th {\n",
       "        text-align: right;\n",
       "    }\n",
       "</style>\n",
       "<table border=\"1\" class=\"dataframe\">\n",
       "  <thead>\n",
       "    <tr style=\"text-align: right;\">\n",
       "      <th></th>\n",
       "      <th>question_id</th>\n",
       "      <th>question_owner_user_id</th>\n",
       "      <th>question_owner_location</th>\n",
       "      <th>question_title</th>\n",
       "      <th>question_body</th>\n",
       "      <th>question_created_date</th>\n",
       "      <th>question_score</th>\n",
       "      <th>question_tag</th>\n",
       "      <th>answer_id</th>\n",
       "      <th>answerer_user_id</th>\n",
       "      <th>answer_created_date</th>\n",
       "      <th>answer_score</th>\n",
       "      <th>answer_comment_count</th>\n",
       "      <th>is_accepted_answer</th>\n",
       "    </tr>\n",
       "  </thead>\n",
       "  <tbody>\n",
       "    <tr>\n",
       "      <th>0</th>\n",
       "      <td>27733458</td>\n",
       "      <td>3769827.0</td>\n",
       "      <td>NaN</td>\n",
       "      <td>SQL script to get time to response in log table</td>\n",
       "      <td>&lt;p&gt;I have one scenario which I really have no ...</td>\n",
       "      <td>2015-01-01 18:31:22.693000 UTC</td>\n",
       "      <td>1</td>\n",
       "      <td>bq</td>\n",
       "      <td>27787398.0</td>\n",
       "      <td>1371484.0</td>\n",
       "      <td>2015-01-05 20:30:31.057000 UTC</td>\n",
       "      <td>1.0</td>\n",
       "      <td>1.0</td>\n",
       "      <td>False</td>\n",
       "    </tr>\n",
       "    <tr>\n",
       "      <th>1</th>\n",
       "      <td>27734669</td>\n",
       "      <td>2238969.0</td>\n",
       "      <td>NaN</td>\n",
       "      <td>Httparchive - BigQuery how to get median bytes...</td>\n",
       "      <td>&lt;p&gt;I am currently writing my bachelor theses a...</td>\n",
       "      <td>2015-01-01 21:04:30.070000 UTC</td>\n",
       "      <td>0</td>\n",
       "      <td>bq</td>\n",
       "      <td>27751284.0</td>\n",
       "      <td>3624307.0</td>\n",
       "      <td>2015-01-03 02:56:46.553000 UTC</td>\n",
       "      <td>1.0</td>\n",
       "      <td>2.0</td>\n",
       "      <td>False</td>\n",
       "    </tr>\n",
       "    <tr>\n",
       "      <th>2</th>\n",
       "      <td>27745803</td>\n",
       "      <td>4413122.0</td>\n",
       "      <td>Austin, TX, United States</td>\n",
       "      <td>BigQuery GA multiple values</td>\n",
       "      <td>&lt;p&gt;I am trying to isolate users that have two ...</td>\n",
       "      <td>2015-01-02 17:09:50.047000 UTC</td>\n",
       "      <td>1</td>\n",
       "      <td>bq</td>\n",
       "      <td>27786830.0</td>\n",
       "      <td>1371484.0</td>\n",
       "      <td>2015-01-05 19:52:02.710000 UTC</td>\n",
       "      <td>1.0</td>\n",
       "      <td>1.0</td>\n",
       "      <td>False</td>\n",
       "    </tr>\n",
       "    <tr>\n",
       "      <th>3</th>\n",
       "      <td>27745803</td>\n",
       "      <td>4413122.0</td>\n",
       "      <td>Austin, TX, United States</td>\n",
       "      <td>BigQuery GA multiple values</td>\n",
       "      <td>&lt;p&gt;I am trying to isolate users that have two ...</td>\n",
       "      <td>2015-01-02 17:09:50.047000 UTC</td>\n",
       "      <td>1</td>\n",
       "      <td>bq</td>\n",
       "      <td>27880982.0</td>\n",
       "      <td>428664.0</td>\n",
       "      <td>2015-01-10 20:38:15.840000 UTC</td>\n",
       "      <td>0.0</td>\n",
       "      <td>2.0</td>\n",
       "      <td>False</td>\n",
       "    </tr>\n",
       "    <tr>\n",
       "      <th>4</th>\n",
       "      <td>27748870</td>\n",
       "      <td>390973.0</td>\n",
       "      <td>NaN</td>\n",
       "      <td>BigQuery Cross Join Much Faster with Each</td>\n",
       "      <td>&lt;p&gt;I'm trying to look at user activity by date...</td>\n",
       "      <td>2015-01-02 21:38:00.870000 UTC</td>\n",
       "      <td>1</td>\n",
       "      <td>bq</td>\n",
       "      <td>27785857.0</td>\n",
       "      <td>3257867.0</td>\n",
       "      <td>2015-01-05 18:46:51.560000 UTC</td>\n",
       "      <td>6.0</td>\n",
       "      <td>0.0</td>\n",
       "      <td>True</td>\n",
       "    </tr>\n",
       "  </tbody>\n",
       "</table>\n",
       "</div>"
      ],
      "text/plain": [
       "   question_id  question_owner_user_id    question_owner_location  \\\n",
       "0     27733458               3769827.0                        NaN   \n",
       "1     27734669               2238969.0                        NaN   \n",
       "2     27745803               4413122.0  Austin, TX, United States   \n",
       "3     27745803               4413122.0  Austin, TX, United States   \n",
       "4     27748870                390973.0                        NaN   \n",
       "\n",
       "                                      question_title  \\\n",
       "0    SQL script to get time to response in log table   \n",
       "1  Httparchive - BigQuery how to get median bytes...   \n",
       "2                        BigQuery GA multiple values   \n",
       "3                        BigQuery GA multiple values   \n",
       "4          BigQuery Cross Join Much Faster with Each   \n",
       "\n",
       "                                       question_body  \\\n",
       "0  <p>I have one scenario which I really have no ...   \n",
       "1  <p>I am currently writing my bachelor theses a...   \n",
       "2  <p>I am trying to isolate users that have two ...   \n",
       "3  <p>I am trying to isolate users that have two ...   \n",
       "4  <p>I'm trying to look at user activity by date...   \n",
       "\n",
       "            question_created_date  question_score question_tag   answer_id  \\\n",
       "0  2015-01-01 18:31:22.693000 UTC               1           bq  27787398.0   \n",
       "1  2015-01-01 21:04:30.070000 UTC               0           bq  27751284.0   \n",
       "2  2015-01-02 17:09:50.047000 UTC               1           bq  27786830.0   \n",
       "3  2015-01-02 17:09:50.047000 UTC               1           bq  27880982.0   \n",
       "4  2015-01-02 21:38:00.870000 UTC               1           bq  27785857.0   \n",
       "\n",
       "   answerer_user_id             answer_created_date  answer_score  \\\n",
       "0         1371484.0  2015-01-05 20:30:31.057000 UTC           1.0   \n",
       "1         3624307.0  2015-01-03 02:56:46.553000 UTC           1.0   \n",
       "2         1371484.0  2015-01-05 19:52:02.710000 UTC           1.0   \n",
       "3          428664.0  2015-01-10 20:38:15.840000 UTC           0.0   \n",
       "4         3257867.0  2015-01-05 18:46:51.560000 UTC           6.0   \n",
       "\n",
       "   answer_comment_count  is_accepted_answer  \n",
       "0                   1.0               False  \n",
       "1                   2.0               False  \n",
       "2                   1.0               False  \n",
       "3                   2.0               False  \n",
       "4                   0.0                True  "
      ]
     },
     "execution_count": 2,
     "metadata": {},
     "output_type": "execute_result"
    }
   ],
   "source": [
    "df = pd.read_csv('stackoverflow.csv')\n",
    "df.head()"
   ]
  },
  {
   "cell_type": "code",
   "execution_count": 3,
   "id": "166864b2",
   "metadata": {},
   "outputs": [
    {
     "data": {
      "text/plain": [
       "(6795, 14)"
      ]
     },
     "execution_count": 3,
     "metadata": {},
     "output_type": "execute_result"
    }
   ],
   "source": [
    "df.shape"
   ]
  },
  {
   "cell_type": "markdown",
   "id": "fd6829c4",
   "metadata": {},
   "source": [
    "Data `df` yang digunakan terdiri dari 6795 baris dan 14 kolom."
   ]
  },
  {
   "cell_type": "code",
   "execution_count": 4,
   "id": "74c2bf1a",
   "metadata": {},
   "outputs": [
    {
     "name": "stdout",
     "output_type": "stream",
     "text": [
      "<class 'pandas.core.frame.DataFrame'>\n",
      "RangeIndex: 6795 entries, 0 to 6794\n",
      "Data columns (total 14 columns):\n",
      " #   Column                   Non-Null Count  Dtype  \n",
      "---  ------                   --------------  -----  \n",
      " 0   question_id              6795 non-null   int64  \n",
      " 1   question_owner_user_id   6761 non-null   float64\n",
      " 2   question_owner_location  2770 non-null   object \n",
      " 3   question_title           6795 non-null   object \n",
      " 4   question_body            6795 non-null   object \n",
      " 5   question_created_date    6795 non-null   object \n",
      " 6   question_score           6795 non-null   int64  \n",
      " 7   question_tag             6795 non-null   object \n",
      " 8   answer_id                6393 non-null   float64\n",
      " 9   answerer_user_id         6385 non-null   float64\n",
      " 10  answer_created_date      6393 non-null   object \n",
      " 11  answer_score             6393 non-null   float64\n",
      " 12  answer_comment_count     6393 non-null   float64\n",
      " 13  is_accepted_answer       6795 non-null   bool   \n",
      "dtypes: bool(1), float64(5), int64(2), object(6)\n",
      "memory usage: 696.9+ KB\n"
     ]
    }
   ],
   "source": [
    "df.info()"
   ]
  },
  {
   "cell_type": "markdown",
   "id": "fed07862",
   "metadata": {},
   "source": [
    "Cek duplikat dari data `df`."
   ]
  },
  {
   "cell_type": "code",
   "execution_count": 5,
   "id": "f0a5face",
   "metadata": {},
   "outputs": [
    {
     "data": {
      "text/plain": [
       "0"
      ]
     },
     "execution_count": 5,
     "metadata": {},
     "output_type": "execute_result"
    }
   ],
   "source": [
    "df.duplicated().sum()"
   ]
  },
  {
   "cell_type": "markdown",
   "id": "05ee6768",
   "metadata": {},
   "source": [
    "# Case 1: Marketing by Topic\n",
    "Tim marketing butuh membuat banyak digital banner untuk menarik orang-orang mengunjungi Stack Overflow. Mereka mempunyai ide untuk membuat marketing berdasarkan tag. Ide tersebut menunjukkan seberapa banyak pertanyaan yang relevan terdapat pada platform untuk kebutuhan masyarakat. Mereka ingin menunjukkan contoh pertanyaan yang ada di platform dan menunjukkan seberapa banyak pertanyaan yang sudah ditanyakan dalam platform sejauh ini.\n",
    "\n",
    "Manajer Anda meminta Anda untuk membuat metrics calculation sesuai kebutuhan dan menunjukkannya dalam line chart dengan setiap tag mempunyai chart. Single line menyatakan tahun pertanyaan ditanyakan. Trennya harus berdasarkan bulan."
   ]
  },
  {
   "cell_type": "markdown",
   "id": "1865d2f7",
   "metadata": {},
   "source": [
    "Menyiapkan subset data yang diperlukan. Kita tidak memerlukan semua kolom. Hanya kolom tertentu yang digunakan."
   ]
  },
  {
   "cell_type": "code",
   "execution_count": 6,
   "id": "e4a38c75",
   "metadata": {},
   "outputs": [
    {
     "data": {
      "text/html": [
       "<div>\n",
       "<style scoped>\n",
       "    .dataframe tbody tr th:only-of-type {\n",
       "        vertical-align: middle;\n",
       "    }\n",
       "\n",
       "    .dataframe tbody tr th {\n",
       "        vertical-align: top;\n",
       "    }\n",
       "\n",
       "    .dataframe thead th {\n",
       "        text-align: right;\n",
       "    }\n",
       "</style>\n",
       "<table border=\"1\" class=\"dataframe\">\n",
       "  <thead>\n",
       "    <tr style=\"text-align: right;\">\n",
       "      <th></th>\n",
       "      <th>question_id</th>\n",
       "      <th>question_owner_user_id</th>\n",
       "      <th>question_created_date</th>\n",
       "      <th>question_tag</th>\n",
       "    </tr>\n",
       "  </thead>\n",
       "  <tbody>\n",
       "    <tr>\n",
       "      <th>0</th>\n",
       "      <td>27733458</td>\n",
       "      <td>3769827.0</td>\n",
       "      <td>2015-01-01 18:31:22.693000 UTC</td>\n",
       "      <td>bq</td>\n",
       "    </tr>\n",
       "    <tr>\n",
       "      <th>1</th>\n",
       "      <td>27734669</td>\n",
       "      <td>2238969.0</td>\n",
       "      <td>2015-01-01 21:04:30.070000 UTC</td>\n",
       "      <td>bq</td>\n",
       "    </tr>\n",
       "    <tr>\n",
       "      <th>2</th>\n",
       "      <td>27745803</td>\n",
       "      <td>4413122.0</td>\n",
       "      <td>2015-01-02 17:09:50.047000 UTC</td>\n",
       "      <td>bq</td>\n",
       "    </tr>\n",
       "    <tr>\n",
       "      <th>3</th>\n",
       "      <td>27745803</td>\n",
       "      <td>4413122.0</td>\n",
       "      <td>2015-01-02 17:09:50.047000 UTC</td>\n",
       "      <td>bq</td>\n",
       "    </tr>\n",
       "    <tr>\n",
       "      <th>4</th>\n",
       "      <td>27748870</td>\n",
       "      <td>390973.0</td>\n",
       "      <td>2015-01-02 21:38:00.870000 UTC</td>\n",
       "      <td>bq</td>\n",
       "    </tr>\n",
       "  </tbody>\n",
       "</table>\n",
       "</div>"
      ],
      "text/plain": [
       "   question_id  question_owner_user_id           question_created_date  \\\n",
       "0     27733458               3769827.0  2015-01-01 18:31:22.693000 UTC   \n",
       "1     27734669               2238969.0  2015-01-01 21:04:30.070000 UTC   \n",
       "2     27745803               4413122.0  2015-01-02 17:09:50.047000 UTC   \n",
       "3     27745803               4413122.0  2015-01-02 17:09:50.047000 UTC   \n",
       "4     27748870                390973.0  2015-01-02 21:38:00.870000 UTC   \n",
       "\n",
       "  question_tag  \n",
       "0           bq  \n",
       "1           bq  \n",
       "2           bq  \n",
       "3           bq  \n",
       "4           bq  "
      ]
     },
     "execution_count": 6,
     "metadata": {},
     "output_type": "execute_result"
    }
   ],
   "source": [
    "kasus1 = df[['question_id', 'question_owner_user_id', 'question_created_date', 'question_tag']]\n",
    "kasus1.head()"
   ]
  },
  {
   "cell_type": "markdown",
   "id": "19d1614d",
   "metadata": {},
   "source": [
    "Cek duplikat dari data `kasus1`."
   ]
  },
  {
   "cell_type": "code",
   "execution_count": 7,
   "id": "16abdf30",
   "metadata": {},
   "outputs": [
    {
     "data": {
      "text/plain": [
       "2198"
      ]
     },
     "execution_count": 7,
     "metadata": {},
     "output_type": "execute_result"
    }
   ],
   "source": [
    "kasus1.duplicated().sum()"
   ]
  },
  {
   "cell_type": "markdown",
   "id": "1473a3d8",
   "metadata": {},
   "source": [
    "Melihat data `kasus1` yang duplikat."
   ]
  },
  {
   "cell_type": "code",
   "execution_count": 8,
   "id": "c830d4f3",
   "metadata": {},
   "outputs": [
    {
     "data": {
      "text/html": [
       "<div>\n",
       "<style scoped>\n",
       "    .dataframe tbody tr th:only-of-type {\n",
       "        vertical-align: middle;\n",
       "    }\n",
       "\n",
       "    .dataframe tbody tr th {\n",
       "        vertical-align: top;\n",
       "    }\n",
       "\n",
       "    .dataframe thead th {\n",
       "        text-align: right;\n",
       "    }\n",
       "</style>\n",
       "<table border=\"1\" class=\"dataframe\">\n",
       "  <thead>\n",
       "    <tr style=\"text-align: right;\">\n",
       "      <th></th>\n",
       "      <th>question_id</th>\n",
       "      <th>question_owner_user_id</th>\n",
       "      <th>question_created_date</th>\n",
       "      <th>question_tag</th>\n",
       "    </tr>\n",
       "  </thead>\n",
       "  <tbody>\n",
       "    <tr>\n",
       "      <th>3</th>\n",
       "      <td>27745803</td>\n",
       "      <td>4413122.0</td>\n",
       "      <td>2015-01-02 17:09:50.047000 UTC</td>\n",
       "      <td>bq</td>\n",
       "    </tr>\n",
       "    <tr>\n",
       "      <th>5</th>\n",
       "      <td>27748870</td>\n",
       "      <td>390973.0</td>\n",
       "      <td>2015-01-02 21:38:00.870000 UTC</td>\n",
       "      <td>bq</td>\n",
       "    </tr>\n",
       "    <tr>\n",
       "      <th>7</th>\n",
       "      <td>27756994</td>\n",
       "      <td>367985.0</td>\n",
       "      <td>2015-01-03 16:36:14.057000 UTC</td>\n",
       "      <td>bq</td>\n",
       "    </tr>\n",
       "    <tr>\n",
       "      <th>9</th>\n",
       "      <td>27784743</td>\n",
       "      <td>3618165.0</td>\n",
       "      <td>2015-01-05 17:32:14.280000 UTC</td>\n",
       "      <td>bq</td>\n",
       "    </tr>\n",
       "    <tr>\n",
       "      <th>11</th>\n",
       "      <td>27788344</td>\n",
       "      <td>3273514.0</td>\n",
       "      <td>2015-01-05 21:38:32.263000 UTC</td>\n",
       "      <td>bq</td>\n",
       "    </tr>\n",
       "    <tr>\n",
       "      <th>...</th>\n",
       "      <td>...</td>\n",
       "      <td>...</td>\n",
       "      <td>...</td>\n",
       "      <td>...</td>\n",
       "    </tr>\n",
       "    <tr>\n",
       "      <th>6782</th>\n",
       "      <td>47998766</td>\n",
       "      <td>8903007.0</td>\n",
       "      <td>2017-12-27 21:19:55.587000 UTC</td>\n",
       "      <td>bq</td>\n",
       "    </tr>\n",
       "    <tr>\n",
       "      <th>6784</th>\n",
       "      <td>48000058</td>\n",
       "      <td>6737845.0</td>\n",
       "      <td>2017-12-28 00:10:13.330000 UTC</td>\n",
       "      <td>bq</td>\n",
       "    </tr>\n",
       "    <tr>\n",
       "      <th>6790</th>\n",
       "      <td>48031187</td>\n",
       "      <td>9074806.0</td>\n",
       "      <td>2017-12-30 05:14:38.143000 UTC</td>\n",
       "      <td>data-studio</td>\n",
       "    </tr>\n",
       "    <tr>\n",
       "      <th>6791</th>\n",
       "      <td>48031187</td>\n",
       "      <td>9074806.0</td>\n",
       "      <td>2017-12-30 05:14:38.143000 UTC</td>\n",
       "      <td>data-studio</td>\n",
       "    </tr>\n",
       "    <tr>\n",
       "      <th>6794</th>\n",
       "      <td>48039288</td>\n",
       "      <td>8798570.0</td>\n",
       "      <td>2017-12-31 01:39:02.950000 UTC</td>\n",
       "      <td>bq</td>\n",
       "    </tr>\n",
       "  </tbody>\n",
       "</table>\n",
       "<p>2198 rows × 4 columns</p>\n",
       "</div>"
      ],
      "text/plain": [
       "      question_id  question_owner_user_id           question_created_date  \\\n",
       "3        27745803               4413122.0  2015-01-02 17:09:50.047000 UTC   \n",
       "5        27748870                390973.0  2015-01-02 21:38:00.870000 UTC   \n",
       "7        27756994                367985.0  2015-01-03 16:36:14.057000 UTC   \n",
       "9        27784743               3618165.0  2015-01-05 17:32:14.280000 UTC   \n",
       "11       27788344               3273514.0  2015-01-05 21:38:32.263000 UTC   \n",
       "...           ...                     ...                             ...   \n",
       "6782     47998766               8903007.0  2017-12-27 21:19:55.587000 UTC   \n",
       "6784     48000058               6737845.0  2017-12-28 00:10:13.330000 UTC   \n",
       "6790     48031187               9074806.0  2017-12-30 05:14:38.143000 UTC   \n",
       "6791     48031187               9074806.0  2017-12-30 05:14:38.143000 UTC   \n",
       "6794     48039288               8798570.0  2017-12-31 01:39:02.950000 UTC   \n",
       "\n",
       "     question_tag  \n",
       "3              bq  \n",
       "5              bq  \n",
       "7              bq  \n",
       "9              bq  \n",
       "11             bq  \n",
       "...           ...  \n",
       "6782           bq  \n",
       "6784           bq  \n",
       "6790  data-studio  \n",
       "6791  data-studio  \n",
       "6794           bq  \n",
       "\n",
       "[2198 rows x 4 columns]"
      ]
     },
     "execution_count": 8,
     "metadata": {},
     "output_type": "execute_result"
    }
   ],
   "source": [
    "kasus1[kasus1.duplicated()]"
   ]
  },
  {
   "cell_type": "markdown",
   "id": "01b75aa8",
   "metadata": {},
   "source": [
    "Melihat salah satu `question_id` dari `kasus1` yang duplikat."
   ]
  },
  {
   "cell_type": "code",
   "execution_count": 9,
   "id": "9501f6c4",
   "metadata": {},
   "outputs": [
    {
     "data": {
      "text/html": [
       "<div>\n",
       "<style scoped>\n",
       "    .dataframe tbody tr th:only-of-type {\n",
       "        vertical-align: middle;\n",
       "    }\n",
       "\n",
       "    .dataframe tbody tr th {\n",
       "        vertical-align: top;\n",
       "    }\n",
       "\n",
       "    .dataframe thead th {\n",
       "        text-align: right;\n",
       "    }\n",
       "</style>\n",
       "<table border=\"1\" class=\"dataframe\">\n",
       "  <thead>\n",
       "    <tr style=\"text-align: right;\">\n",
       "      <th></th>\n",
       "      <th>question_id</th>\n",
       "      <th>question_owner_user_id</th>\n",
       "      <th>question_created_date</th>\n",
       "      <th>question_tag</th>\n",
       "    </tr>\n",
       "  </thead>\n",
       "  <tbody>\n",
       "    <tr>\n",
       "      <th>10</th>\n",
       "      <td>27788344</td>\n",
       "      <td>3273514.0</td>\n",
       "      <td>2015-01-05 21:38:32.263000 UTC</td>\n",
       "      <td>bq</td>\n",
       "    </tr>\n",
       "    <tr>\n",
       "      <th>11</th>\n",
       "      <td>27788344</td>\n",
       "      <td>3273514.0</td>\n",
       "      <td>2015-01-05 21:38:32.263000 UTC</td>\n",
       "      <td>bq</td>\n",
       "    </tr>\n",
       "  </tbody>\n",
       "</table>\n",
       "</div>"
      ],
      "text/plain": [
       "    question_id  question_owner_user_id           question_created_date  \\\n",
       "10     27788344               3273514.0  2015-01-05 21:38:32.263000 UTC   \n",
       "11     27788344               3273514.0  2015-01-05 21:38:32.263000 UTC   \n",
       "\n",
       "   question_tag  \n",
       "10           bq  \n",
       "11           bq  "
      ]
     },
     "execution_count": 9,
     "metadata": {},
     "output_type": "execute_result"
    }
   ],
   "source": [
    "kasus1[kasus1['question_id'] == 27788344]"
   ]
  },
  {
   "cell_type": "markdown",
   "id": "517b7fe7",
   "metadata": {},
   "source": [
    "Menghapus data yang duplikat."
   ]
  },
  {
   "cell_type": "code",
   "execution_count": 10,
   "id": "80c9744a",
   "metadata": {},
   "outputs": [],
   "source": [
    "kasus1 = kasus1.drop_duplicates()"
   ]
  },
  {
   "cell_type": "markdown",
   "id": "d6c263e2",
   "metadata": {},
   "source": [
    "Mengecek null values data `kasus1`."
   ]
  },
  {
   "cell_type": "code",
   "execution_count": 11,
   "id": "2fedc571",
   "metadata": {},
   "outputs": [
    {
     "data": {
      "text/plain": [
       "question_id                0\n",
       "question_owner_user_id    20\n",
       "question_created_date      0\n",
       "question_tag               0\n",
       "dtype: int64"
      ]
     },
     "execution_count": 11,
     "metadata": {},
     "output_type": "execute_result"
    }
   ],
   "source": [
    "kasus1.isna().sum()"
   ]
  },
  {
   "cell_type": "markdown",
   "id": "cc715d56",
   "metadata": {},
   "source": [
    "null values pada kolom `question_owner_user_id` dari `kasus1` dapat diabaikan karena tidak mengganggu proses analisis."
   ]
  },
  {
   "cell_type": "markdown",
   "id": "82d64bad",
   "metadata": {},
   "source": [
    "Menambah kolom `year` dan `month` dari kolom `question_created_date` pada data `kasus1`."
   ]
  },
  {
   "cell_type": "code",
   "execution_count": 12,
   "id": "918d798a",
   "metadata": {},
   "outputs": [
    {
     "data": {
      "text/html": [
       "<div>\n",
       "<style scoped>\n",
       "    .dataframe tbody tr th:only-of-type {\n",
       "        vertical-align: middle;\n",
       "    }\n",
       "\n",
       "    .dataframe tbody tr th {\n",
       "        vertical-align: top;\n",
       "    }\n",
       "\n",
       "    .dataframe thead th {\n",
       "        text-align: right;\n",
       "    }\n",
       "</style>\n",
       "<table border=\"1\" class=\"dataframe\">\n",
       "  <thead>\n",
       "    <tr style=\"text-align: right;\">\n",
       "      <th></th>\n",
       "      <th>question_id</th>\n",
       "      <th>question_owner_user_id</th>\n",
       "      <th>question_created_date</th>\n",
       "      <th>question_tag</th>\n",
       "      <th>year</th>\n",
       "      <th>month</th>\n",
       "    </tr>\n",
       "  </thead>\n",
       "  <tbody>\n",
       "    <tr>\n",
       "      <th>0</th>\n",
       "      <td>27733458</td>\n",
       "      <td>3769827.0</td>\n",
       "      <td>2015-01-01 18:31:22.693000 UTC</td>\n",
       "      <td>bq</td>\n",
       "      <td>2015</td>\n",
       "      <td>1</td>\n",
       "    </tr>\n",
       "    <tr>\n",
       "      <th>1</th>\n",
       "      <td>27734669</td>\n",
       "      <td>2238969.0</td>\n",
       "      <td>2015-01-01 21:04:30.070000 UTC</td>\n",
       "      <td>bq</td>\n",
       "      <td>2015</td>\n",
       "      <td>1</td>\n",
       "    </tr>\n",
       "    <tr>\n",
       "      <th>2</th>\n",
       "      <td>27745803</td>\n",
       "      <td>4413122.0</td>\n",
       "      <td>2015-01-02 17:09:50.047000 UTC</td>\n",
       "      <td>bq</td>\n",
       "      <td>2015</td>\n",
       "      <td>1</td>\n",
       "    </tr>\n",
       "    <tr>\n",
       "      <th>4</th>\n",
       "      <td>27748870</td>\n",
       "      <td>390973.0</td>\n",
       "      <td>2015-01-02 21:38:00.870000 UTC</td>\n",
       "      <td>bq</td>\n",
       "      <td>2015</td>\n",
       "      <td>1</td>\n",
       "    </tr>\n",
       "    <tr>\n",
       "      <th>6</th>\n",
       "      <td>27756994</td>\n",
       "      <td>367985.0</td>\n",
       "      <td>2015-01-03 16:36:14.057000 UTC</td>\n",
       "      <td>bq</td>\n",
       "      <td>2015</td>\n",
       "      <td>1</td>\n",
       "    </tr>\n",
       "  </tbody>\n",
       "</table>\n",
       "</div>"
      ],
      "text/plain": [
       "   question_id  question_owner_user_id           question_created_date  \\\n",
       "0     27733458               3769827.0  2015-01-01 18:31:22.693000 UTC   \n",
       "1     27734669               2238969.0  2015-01-01 21:04:30.070000 UTC   \n",
       "2     27745803               4413122.0  2015-01-02 17:09:50.047000 UTC   \n",
       "4     27748870                390973.0  2015-01-02 21:38:00.870000 UTC   \n",
       "6     27756994                367985.0  2015-01-03 16:36:14.057000 UTC   \n",
       "\n",
       "  question_tag  year  month  \n",
       "0           bq  2015      1  \n",
       "1           bq  2015      1  \n",
       "2           bq  2015      1  \n",
       "4           bq  2015      1  \n",
       "6           bq  2015      1  "
      ]
     },
     "execution_count": 12,
     "metadata": {},
     "output_type": "execute_result"
    }
   ],
   "source": [
    "kasus1['year'] = pd.to_datetime(kasus1['question_created_date']).dt.year\n",
    "kasus1['month'] = pd.to_datetime(kasus1['question_created_date']).dt.month\n",
    "kasus1.head()"
   ]
  },
  {
   "cell_type": "code",
   "execution_count": 13,
   "id": "784304c2",
   "metadata": {},
   "outputs": [
    {
     "data": {
      "text/plain": [
       "(4597, 6)"
      ]
     },
     "execution_count": 13,
     "metadata": {},
     "output_type": "execute_result"
    }
   ],
   "source": [
    "kasus1.shape"
   ]
  },
  {
   "cell_type": "markdown",
   "id": "f4d9d7ff",
   "metadata": {},
   "source": [
    "Data `kasus1` terdiri dari 4597 baris dan 6 kolom."
   ]
  },
  {
   "cell_type": "markdown",
   "id": "5603ab20",
   "metadata": {},
   "source": [
    "Cek unique values dari kolom `question_tag` pada `kasus1`."
   ]
  },
  {
   "cell_type": "code",
   "execution_count": 14,
   "id": "26757900",
   "metadata": {},
   "outputs": [
    {
     "name": "stdout",
     "output_type": "stream",
     "text": [
      "['bq' 'data-studio' 'looker']\n"
     ]
    }
   ],
   "source": [
    "print(kasus1['question_tag'].unique())"
   ]
  },
  {
   "cell_type": "code",
   "execution_count": 15,
   "id": "2a7dea58",
   "metadata": {},
   "outputs": [
    {
     "data": {
      "text/plain": [
       "bq             4471\n",
       "data-studio     119\n",
       "looker            7\n",
       "Name: question_tag, dtype: int64"
      ]
     },
     "execution_count": 15,
     "metadata": {},
     "output_type": "execute_result"
    }
   ],
   "source": [
    "kasus1['question_tag'].value_counts()"
   ]
  },
  {
   "cell_type": "markdown",
   "id": "bf046671",
   "metadata": {},
   "source": [
    "Cek unique values dari kolom `year` pada `kasus1`."
   ]
  },
  {
   "cell_type": "code",
   "execution_count": 16,
   "id": "8e7b935b",
   "metadata": {},
   "outputs": [
    {
     "name": "stdout",
     "output_type": "stream",
     "text": [
      "[2015 2016 2017]\n"
     ]
    }
   ],
   "source": [
    "print(kasus1['year'].unique())"
   ]
  },
  {
   "cell_type": "code",
   "execution_count": 17,
   "id": "b741b1e0",
   "metadata": {},
   "outputs": [
    {
     "data": {
      "text/plain": [
       "2017    2135\n",
       "2016    1539\n",
       "2015     923\n",
       "Name: year, dtype: int64"
      ]
     },
     "execution_count": 17,
     "metadata": {},
     "output_type": "execute_result"
    }
   ],
   "source": [
    "kasus1['year'].value_counts()"
   ]
  },
  {
   "cell_type": "markdown",
   "id": "712c020e",
   "metadata": {},
   "source": [
    "Cek unique values dari kolom `month` pada `kasus1`."
   ]
  },
  {
   "cell_type": "code",
   "execution_count": 18,
   "id": "9f9bff85",
   "metadata": {},
   "outputs": [
    {
     "name": "stdout",
     "output_type": "stream",
     "text": [
      "[ 1  2  3  4  5  6  7  8  9 10 11 12]\n"
     ]
    }
   ],
   "source": [
    "print(kasus1['month'].unique())"
   ]
  },
  {
   "cell_type": "code",
   "execution_count": 19,
   "id": "e7af5ddb",
   "metadata": {},
   "outputs": [
    {
     "data": {
      "text/plain": [
       "6     432\n",
       "11    425\n",
       "10    424\n",
       "7     422\n",
       "8     405\n",
       "3     391\n",
       "5     379\n",
       "4     376\n",
       "1     350\n",
       "12    348\n",
       "9     345\n",
       "2     300\n",
       "Name: month, dtype: int64"
      ]
     },
     "execution_count": 19,
     "metadata": {},
     "output_type": "execute_result"
    }
   ],
   "source": [
    "kasus1['month'].value_counts()"
   ]
  },
  {
   "cell_type": "markdown",
   "id": "f768daa6",
   "metadata": {},
   "source": [
    "## BigQuery"
   ]
  },
  {
   "cell_type": "markdown",
   "id": "1734336e",
   "metadata": {},
   "source": [
    "Hanya mengambil data yang `question_tag` berupa 'bq' pada `kasus1`."
   ]
  },
  {
   "cell_type": "code",
   "execution_count": 20,
   "id": "4f8519d5",
   "metadata": {},
   "outputs": [
    {
     "data": {
      "text/html": [
       "<div>\n",
       "<style scoped>\n",
       "    .dataframe tbody tr th:only-of-type {\n",
       "        vertical-align: middle;\n",
       "    }\n",
       "\n",
       "    .dataframe tbody tr th {\n",
       "        vertical-align: top;\n",
       "    }\n",
       "\n",
       "    .dataframe thead th {\n",
       "        text-align: right;\n",
       "    }\n",
       "</style>\n",
       "<table border=\"1\" class=\"dataframe\">\n",
       "  <thead>\n",
       "    <tr style=\"text-align: right;\">\n",
       "      <th></th>\n",
       "      <th>question_id</th>\n",
       "      <th>question_owner_user_id</th>\n",
       "      <th>question_created_date</th>\n",
       "      <th>question_tag</th>\n",
       "      <th>year</th>\n",
       "      <th>month</th>\n",
       "    </tr>\n",
       "  </thead>\n",
       "  <tbody>\n",
       "    <tr>\n",
       "      <th>0</th>\n",
       "      <td>27733458</td>\n",
       "      <td>3769827.0</td>\n",
       "      <td>2015-01-01 18:31:22.693000 UTC</td>\n",
       "      <td>bq</td>\n",
       "      <td>2015</td>\n",
       "      <td>1</td>\n",
       "    </tr>\n",
       "    <tr>\n",
       "      <th>1</th>\n",
       "      <td>27734669</td>\n",
       "      <td>2238969.0</td>\n",
       "      <td>2015-01-01 21:04:30.070000 UTC</td>\n",
       "      <td>bq</td>\n",
       "      <td>2015</td>\n",
       "      <td>1</td>\n",
       "    </tr>\n",
       "    <tr>\n",
       "      <th>2</th>\n",
       "      <td>27745803</td>\n",
       "      <td>4413122.0</td>\n",
       "      <td>2015-01-02 17:09:50.047000 UTC</td>\n",
       "      <td>bq</td>\n",
       "      <td>2015</td>\n",
       "      <td>1</td>\n",
       "    </tr>\n",
       "    <tr>\n",
       "      <th>4</th>\n",
       "      <td>27748870</td>\n",
       "      <td>390973.0</td>\n",
       "      <td>2015-01-02 21:38:00.870000 UTC</td>\n",
       "      <td>bq</td>\n",
       "      <td>2015</td>\n",
       "      <td>1</td>\n",
       "    </tr>\n",
       "    <tr>\n",
       "      <th>6</th>\n",
       "      <td>27756994</td>\n",
       "      <td>367985.0</td>\n",
       "      <td>2015-01-03 16:36:14.057000 UTC</td>\n",
       "      <td>bq</td>\n",
       "      <td>2015</td>\n",
       "      <td>1</td>\n",
       "    </tr>\n",
       "  </tbody>\n",
       "</table>\n",
       "</div>"
      ],
      "text/plain": [
       "   question_id  question_owner_user_id           question_created_date  \\\n",
       "0     27733458               3769827.0  2015-01-01 18:31:22.693000 UTC   \n",
       "1     27734669               2238969.0  2015-01-01 21:04:30.070000 UTC   \n",
       "2     27745803               4413122.0  2015-01-02 17:09:50.047000 UTC   \n",
       "4     27748870                390973.0  2015-01-02 21:38:00.870000 UTC   \n",
       "6     27756994                367985.0  2015-01-03 16:36:14.057000 UTC   \n",
       "\n",
       "  question_tag  year  month  \n",
       "0           bq  2015      1  \n",
       "1           bq  2015      1  \n",
       "2           bq  2015      1  \n",
       "4           bq  2015      1  \n",
       "6           bq  2015      1  "
      ]
     },
     "execution_count": 20,
     "metadata": {},
     "output_type": "execute_result"
    }
   ],
   "source": [
    "bq1 = kasus1.loc[kasus1['question_tag'] == 'bq', :]\n",
    "bq1.head()"
   ]
  },
  {
   "cell_type": "markdown",
   "id": "de9f4224",
   "metadata": {},
   "source": [
    "Melihat jumlah pertanyaan yang dibuat berdasarkan tahun dan bulan."
   ]
  },
  {
   "cell_type": "code",
   "execution_count": 21,
   "id": "2071cff1",
   "metadata": {},
   "outputs": [
    {
     "data": {
      "text/html": [
       "<div>\n",
       "<style scoped>\n",
       "    .dataframe tbody tr th:only-of-type {\n",
       "        vertical-align: middle;\n",
       "    }\n",
       "\n",
       "    .dataframe tbody tr th {\n",
       "        vertical-align: top;\n",
       "    }\n",
       "\n",
       "    .dataframe thead th {\n",
       "        text-align: right;\n",
       "    }\n",
       "</style>\n",
       "<table border=\"1\" class=\"dataframe\">\n",
       "  <thead>\n",
       "    <tr style=\"text-align: right;\">\n",
       "      <th>year</th>\n",
       "      <th>2015</th>\n",
       "      <th>2016</th>\n",
       "      <th>2017</th>\n",
       "    </tr>\n",
       "    <tr>\n",
       "      <th>month</th>\n",
       "      <th></th>\n",
       "      <th></th>\n",
       "      <th></th>\n",
       "    </tr>\n",
       "  </thead>\n",
       "  <tbody>\n",
       "    <tr>\n",
       "      <th>1</th>\n",
       "      <td>57</td>\n",
       "      <td>114</td>\n",
       "      <td>169</td>\n",
       "    </tr>\n",
       "    <tr>\n",
       "      <th>2</th>\n",
       "      <td>67</td>\n",
       "      <td>98</td>\n",
       "      <td>129</td>\n",
       "    </tr>\n",
       "    <tr>\n",
       "      <th>3</th>\n",
       "      <td>69</td>\n",
       "      <td>114</td>\n",
       "      <td>198</td>\n",
       "    </tr>\n",
       "    <tr>\n",
       "      <th>4</th>\n",
       "      <td>75</td>\n",
       "      <td>116</td>\n",
       "      <td>177</td>\n",
       "    </tr>\n",
       "    <tr>\n",
       "      <th>5</th>\n",
       "      <td>79</td>\n",
       "      <td>108</td>\n",
       "      <td>187</td>\n",
       "    </tr>\n",
       "    <tr>\n",
       "      <th>6</th>\n",
       "      <td>92</td>\n",
       "      <td>133</td>\n",
       "      <td>199</td>\n",
       "    </tr>\n",
       "    <tr>\n",
       "      <th>7</th>\n",
       "      <td>78</td>\n",
       "      <td>142</td>\n",
       "      <td>199</td>\n",
       "    </tr>\n",
       "    <tr>\n",
       "      <th>8</th>\n",
       "      <td>69</td>\n",
       "      <td>180</td>\n",
       "      <td>152</td>\n",
       "    </tr>\n",
       "    <tr>\n",
       "      <th>9</th>\n",
       "      <td>81</td>\n",
       "      <td>113</td>\n",
       "      <td>134</td>\n",
       "    </tr>\n",
       "    <tr>\n",
       "      <th>10</th>\n",
       "      <td>78</td>\n",
       "      <td>151</td>\n",
       "      <td>179</td>\n",
       "    </tr>\n",
       "    <tr>\n",
       "      <th>11</th>\n",
       "      <td>82</td>\n",
       "      <td>134</td>\n",
       "      <td>185</td>\n",
       "    </tr>\n",
       "    <tr>\n",
       "      <th>12</th>\n",
       "      <td>77</td>\n",
       "      <td>119</td>\n",
       "      <td>137</td>\n",
       "    </tr>\n",
       "  </tbody>\n",
       "</table>\n",
       "</div>"
      ],
      "text/plain": [
       "year   2015  2016  2017\n",
       "month                  \n",
       "1        57   114   169\n",
       "2        67    98   129\n",
       "3        69   114   198\n",
       "4        75   116   177\n",
       "5        79   108   187\n",
       "6        92   133   199\n",
       "7        78   142   199\n",
       "8        69   180   152\n",
       "9        81   113   134\n",
       "10       78   151   179\n",
       "11       82   134   185\n",
       "12       77   119   137"
      ]
     },
     "execution_count": 21,
     "metadata": {},
     "output_type": "execute_result"
    }
   ],
   "source": [
    "bq1.groupby(['month', 'year'])['question_id'].count().unstack()"
   ]
  },
  {
   "cell_type": "code",
   "execution_count": 22,
   "id": "5d236430",
   "metadata": {},
   "outputs": [
    {
     "data": {
      "image/png": "[encoded data removed]",
      "text/plain": [
       "<Figure size 1000x500 with 1 Axes>"
      ]
     },
     "metadata": {},
     "output_type": "display_data"
    }
   ],
   "source": [
    "bq1.groupby(['month', 'year'])['question_id'].count().unstack().plot(marker = 'o', cmap = 'plasma')\n",
    "plt.title('The Number of Questions Asked\\n(BigQuery)', loc = 'center', pad = 20, fontsize = 20, color = 'green')\n",
    "plt.xlabel('Month', fontsize = 11)\n",
    "plt.ylabel('Total', fontsize = 11)\n",
    "plt.xticks(range(1, 13), ['Jan', 'Feb', 'Mar', 'Apr', 'May', 'Jun', 'Jul', 'Aug', 'Sep', 'Oct', 'Nov', 'Dec'])\n",
    "plt.ylim(ymin = 0, ymax = 210)\n",
    "plt.legend(title = 'Year', loc = 'upper center', bbox_to_anchor = (1.07, 1), shadow = True)\n",
    "plt.grid(color = 'darkgrey', linestyle = ':', linewidth = 0.5)\n",
    "plt.gcf().set_size_inches(10, 5)\n",
    "plt.tight_layout()\n",
    "plt.show()"
   ]
  },
  {
   "cell_type": "markdown",
   "id": "6826e0aa",
   "metadata": {},
   "source": [
    "## Data-Studio"
   ]
  },
  {
   "cell_type": "markdown",
   "id": "f00ec245",
   "metadata": {},
   "source": [
    "Hanya mengambil data yang `question_tag` berupa 'data-studio' pada `kasus1`."
   ]
  },
  {
   "cell_type": "code",
   "execution_count": 23,
   "id": "71546331",
   "metadata": {},
   "outputs": [
    {
     "data": {
      "text/html": [
       "<div>\n",
       "<style scoped>\n",
       "    .dataframe tbody tr th:only-of-type {\n",
       "        vertical-align: middle;\n",
       "    }\n",
       "\n",
       "    .dataframe tbody tr th {\n",
       "        vertical-align: top;\n",
       "    }\n",
       "\n",
       "    .dataframe thead th {\n",
       "        text-align: right;\n",
       "    }\n",
       "</style>\n",
       "<table border=\"1\" class=\"dataframe\">\n",
       "  <thead>\n",
       "    <tr style=\"text-align: right;\">\n",
       "      <th></th>\n",
       "      <th>question_id</th>\n",
       "      <th>question_owner_user_id</th>\n",
       "      <th>question_created_date</th>\n",
       "      <th>question_tag</th>\n",
       "      <th>year</th>\n",
       "      <th>month</th>\n",
       "    </tr>\n",
       "  </thead>\n",
       "  <tbody>\n",
       "    <tr>\n",
       "      <th>50</th>\n",
       "      <td>28049326</td>\n",
       "      <td>1166924.0</td>\n",
       "      <td>2015-01-20 15:38:04.110000 UTC</td>\n",
       "      <td>data-studio</td>\n",
       "      <td>2015</td>\n",
       "      <td>1</td>\n",
       "    </tr>\n",
       "    <tr>\n",
       "      <th>56</th>\n",
       "      <td>28106196</td>\n",
       "      <td>1166924.0</td>\n",
       "      <td>2015-01-23 08:57:03.417000 UTC</td>\n",
       "      <td>data-studio</td>\n",
       "      <td>2015</td>\n",
       "      <td>1</td>\n",
       "    </tr>\n",
       "    <tr>\n",
       "      <th>162</th>\n",
       "      <td>28594848</td>\n",
       "      <td>3629382.0</td>\n",
       "      <td>2015-02-18 22:05:03.020000 UTC</td>\n",
       "      <td>data-studio</td>\n",
       "      <td>2015</td>\n",
       "      <td>2</td>\n",
       "    </tr>\n",
       "    <tr>\n",
       "      <th>172</th>\n",
       "      <td>28632358</td>\n",
       "      <td>1234456.0</td>\n",
       "      <td>2015-02-20 15:20:46.567000 UTC</td>\n",
       "      <td>data-studio</td>\n",
       "      <td>2015</td>\n",
       "      <td>2</td>\n",
       "    </tr>\n",
       "    <tr>\n",
       "      <th>225</th>\n",
       "      <td>28929634</td>\n",
       "      <td>1159404.0</td>\n",
       "      <td>2015-03-08 17:32:49.933000 UTC</td>\n",
       "      <td>data-studio</td>\n",
       "      <td>2015</td>\n",
       "      <td>3</td>\n",
       "    </tr>\n",
       "  </tbody>\n",
       "</table>\n",
       "</div>"
      ],
      "text/plain": [
       "     question_id  question_owner_user_id           question_created_date  \\\n",
       "50      28049326               1166924.0  2015-01-20 15:38:04.110000 UTC   \n",
       "56      28106196               1166924.0  2015-01-23 08:57:03.417000 UTC   \n",
       "162     28594848               3629382.0  2015-02-18 22:05:03.020000 UTC   \n",
       "172     28632358               1234456.0  2015-02-20 15:20:46.567000 UTC   \n",
       "225     28929634               1159404.0  2015-03-08 17:32:49.933000 UTC   \n",
       "\n",
       "    question_tag  year  month  \n",
       "50   data-studio  2015      1  \n",
       "56   data-studio  2015      1  \n",
       "162  data-studio  2015      2  \n",
       "172  data-studio  2015      2  \n",
       "225  data-studio  2015      3  "
      ]
     },
     "execution_count": 23,
     "metadata": {},
     "output_type": "execute_result"
    }
   ],
   "source": [
    "ds1 = kasus1.loc[kasus1['question_tag'] == 'data-studio', :]\n",
    "ds1.head()"
   ]
  },
  {
   "cell_type": "markdown",
   "id": "1f3668a6",
   "metadata": {},
   "source": [
    "Melihat jumlah pertanyaan yang dibuat berdasarkan tahun dan bulan."
   ]
  },
  {
   "cell_type": "code",
   "execution_count": 24,
   "id": "6eb6d246",
   "metadata": {},
   "outputs": [
    {
     "data": {
      "text/html": [
       "<div>\n",
       "<style scoped>\n",
       "    .dataframe tbody tr th:only-of-type {\n",
       "        vertical-align: middle;\n",
       "    }\n",
       "\n",
       "    .dataframe tbody tr th {\n",
       "        vertical-align: top;\n",
       "    }\n",
       "\n",
       "    .dataframe thead th {\n",
       "        text-align: right;\n",
       "    }\n",
       "</style>\n",
       "<table border=\"1\" class=\"dataframe\">\n",
       "  <thead>\n",
       "    <tr style=\"text-align: right;\">\n",
       "      <th>year</th>\n",
       "      <th>2015</th>\n",
       "      <th>2016</th>\n",
       "      <th>2017</th>\n",
       "    </tr>\n",
       "    <tr>\n",
       "      <th>month</th>\n",
       "      <th></th>\n",
       "      <th></th>\n",
       "      <th></th>\n",
       "    </tr>\n",
       "  </thead>\n",
       "  <tbody>\n",
       "    <tr>\n",
       "      <th>1</th>\n",
       "      <td>2.0</td>\n",
       "      <td>2.0</td>\n",
       "      <td>6.0</td>\n",
       "    </tr>\n",
       "    <tr>\n",
       "      <th>2</th>\n",
       "      <td>2.0</td>\n",
       "      <td>NaN</td>\n",
       "      <td>4.0</td>\n",
       "    </tr>\n",
       "    <tr>\n",
       "      <th>3</th>\n",
       "      <td>2.0</td>\n",
       "      <td>2.0</td>\n",
       "      <td>6.0</td>\n",
       "    </tr>\n",
       "    <tr>\n",
       "      <th>4</th>\n",
       "      <td>3.0</td>\n",
       "      <td>2.0</td>\n",
       "      <td>3.0</td>\n",
       "    </tr>\n",
       "    <tr>\n",
       "      <th>5</th>\n",
       "      <td>NaN</td>\n",
       "      <td>1.0</td>\n",
       "      <td>3.0</td>\n",
       "    </tr>\n",
       "    <tr>\n",
       "      <th>6</th>\n",
       "      <td>1.0</td>\n",
       "      <td>2.0</td>\n",
       "      <td>4.0</td>\n",
       "    </tr>\n",
       "    <tr>\n",
       "      <th>7</th>\n",
       "      <td>NaN</td>\n",
       "      <td>NaN</td>\n",
       "      <td>2.0</td>\n",
       "    </tr>\n",
       "    <tr>\n",
       "      <th>8</th>\n",
       "      <td>NaN</td>\n",
       "      <td>NaN</td>\n",
       "      <td>4.0</td>\n",
       "    </tr>\n",
       "    <tr>\n",
       "      <th>9</th>\n",
       "      <td>2.0</td>\n",
       "      <td>1.0</td>\n",
       "      <td>14.0</td>\n",
       "    </tr>\n",
       "    <tr>\n",
       "      <th>10</th>\n",
       "      <td>2.0</td>\n",
       "      <td>2.0</td>\n",
       "      <td>11.0</td>\n",
       "    </tr>\n",
       "    <tr>\n",
       "      <th>11</th>\n",
       "      <td>1.0</td>\n",
       "      <td>3.0</td>\n",
       "      <td>18.0</td>\n",
       "    </tr>\n",
       "    <tr>\n",
       "      <th>12</th>\n",
       "      <td>3.0</td>\n",
       "      <td>1.0</td>\n",
       "      <td>10.0</td>\n",
       "    </tr>\n",
       "  </tbody>\n",
       "</table>\n",
       "</div>"
      ],
      "text/plain": [
       "year   2015  2016  2017\n",
       "month                  \n",
       "1       2.0   2.0   6.0\n",
       "2       2.0   NaN   4.0\n",
       "3       2.0   2.0   6.0\n",
       "4       3.0   2.0   3.0\n",
       "5       NaN   1.0   3.0\n",
       "6       1.0   2.0   4.0\n",
       "7       NaN   NaN   2.0\n",
       "8       NaN   NaN   4.0\n",
       "9       2.0   1.0  14.0\n",
       "10      2.0   2.0  11.0\n",
       "11      1.0   3.0  18.0\n",
       "12      3.0   1.0  10.0"
      ]
     },
     "execution_count": 24,
     "metadata": {},
     "output_type": "execute_result"
    }
   ],
   "source": [
    "ds1.groupby(['month', 'year'])['question_id'].count().unstack()"
   ]
  },
  {
   "cell_type": "code",
   "execution_count": 25,
   "id": "f8532a85",
   "metadata": {},
   "outputs": [
    {
     "data": {
      "image/png": "[encoded data removed]",
      "text/plain": [
       "<Figure size 1000x500 with 1 Axes>"
      ]
     },
     "metadata": {},
     "output_type": "display_data"
    }
   ],
   "source": [
    "ds1.groupby(['month', 'year'])['question_id'].count().unstack().plot(marker = 'o', cmap = 'plasma')\n",
    "plt.title('The Number of Questions Asked\\n(Data-Studio)', loc = 'center', pad = 20, fontsize = 20, color = 'green')\n",
    "plt.xlabel('Month', fontsize = 11)\n",
    "plt.ylabel('Total', fontsize = 11)\n",
    "labels, locations = plt.yticks()\n",
    "plt.xticks(range(1, 13), ['Jan', 'Feb', 'Mar', 'Apr', 'May', 'Jun', 'Jul', 'Aug', 'Sep', 'Oct', 'Nov', 'Dec'])\n",
    "plt.yticks(range(0, 21, 4))\n",
    "plt.legend(title = 'Year', loc = 'upper center', bbox_to_anchor = (1.07, 1), shadow = True)\n",
    "plt.grid(color = 'darkgrey', linestyle = ':', linewidth = 0.5)\n",
    "plt.gcf().set_size_inches(10, 5)\n",
    "plt.tight_layout()\n",
    "plt.show()"
   ]
  },
  {
   "cell_type": "markdown",
   "id": "a88c6056",
   "metadata": {},
   "source": [
    "## Looker"
   ]
  },
  {
   "cell_type": "markdown",
   "id": "09bca140",
   "metadata": {},
   "source": [
    "Hanya mengambil data yang `question_tag` berupa 'looker' pada `kasus1`."
   ]
  },
  {
   "cell_type": "code",
   "execution_count": 26,
   "id": "6a0b4cb5",
   "metadata": {},
   "outputs": [
    {
     "data": {
      "text/html": [
       "<div>\n",
       "<style scoped>\n",
       "    .dataframe tbody tr th:only-of-type {\n",
       "        vertical-align: middle;\n",
       "    }\n",
       "\n",
       "    .dataframe tbody tr th {\n",
       "        vertical-align: top;\n",
       "    }\n",
       "\n",
       "    .dataframe thead th {\n",
       "        text-align: right;\n",
       "    }\n",
       "</style>\n",
       "<table border=\"1\" class=\"dataframe\">\n",
       "  <thead>\n",
       "    <tr style=\"text-align: right;\">\n",
       "      <th></th>\n",
       "      <th>question_id</th>\n",
       "      <th>question_owner_user_id</th>\n",
       "      <th>question_created_date</th>\n",
       "      <th>question_tag</th>\n",
       "      <th>year</th>\n",
       "      <th>month</th>\n",
       "    </tr>\n",
       "  </thead>\n",
       "  <tbody>\n",
       "    <tr>\n",
       "      <th>1223</th>\n",
       "      <td>33748248</td>\n",
       "      <td>5570120.0</td>\n",
       "      <td>2015-11-17 02:42:45.800000 UTC</td>\n",
       "      <td>looker</td>\n",
       "      <td>2015</td>\n",
       "      <td>11</td>\n",
       "    </tr>\n",
       "    <tr>\n",
       "      <th>2130</th>\n",
       "      <td>36977862</td>\n",
       "      <td>1283776.0</td>\n",
       "      <td>2016-05-02 08:09:23.793000 UTC</td>\n",
       "      <td>looker</td>\n",
       "      <td>2016</td>\n",
       "      <td>5</td>\n",
       "    </tr>\n",
       "    <tr>\n",
       "      <th>5284</th>\n",
       "      <td>44778137</td>\n",
       "      <td>8196937.0</td>\n",
       "      <td>2017-06-27 10:34:44.797000 UTC</td>\n",
       "      <td>looker</td>\n",
       "      <td>2017</td>\n",
       "      <td>6</td>\n",
       "    </tr>\n",
       "    <tr>\n",
       "      <th>5602</th>\n",
       "      <td>45344600</td>\n",
       "      <td>3649361.0</td>\n",
       "      <td>2017-07-27 07:54:31.067000 UTC</td>\n",
       "      <td>looker</td>\n",
       "      <td>2017</td>\n",
       "      <td>7</td>\n",
       "    </tr>\n",
       "    <tr>\n",
       "      <th>6180</th>\n",
       "      <td>46776128</td>\n",
       "      <td>8216953.0</td>\n",
       "      <td>2017-10-16 17:45:12.290000 UTC</td>\n",
       "      <td>looker</td>\n",
       "      <td>2017</td>\n",
       "      <td>10</td>\n",
       "    </tr>\n",
       "    <tr>\n",
       "      <th>6336</th>\n",
       "      <td>47062044</td>\n",
       "      <td>2542922.0</td>\n",
       "      <td>2017-11-01 19:11:35.847000 UTC</td>\n",
       "      <td>looker</td>\n",
       "      <td>2017</td>\n",
       "      <td>11</td>\n",
       "    </tr>\n",
       "    <tr>\n",
       "      <th>6673</th>\n",
       "      <td>47749398</td>\n",
       "      <td>2060880.0</td>\n",
       "      <td>2017-12-11 09:06:25.383000 UTC</td>\n",
       "      <td>looker</td>\n",
       "      <td>2017</td>\n",
       "      <td>12</td>\n",
       "    </tr>\n",
       "  </tbody>\n",
       "</table>\n",
       "</div>"
      ],
      "text/plain": [
       "      question_id  question_owner_user_id           question_created_date  \\\n",
       "1223     33748248               5570120.0  2015-11-17 02:42:45.800000 UTC   \n",
       "2130     36977862               1283776.0  2016-05-02 08:09:23.793000 UTC   \n",
       "5284     44778137               8196937.0  2017-06-27 10:34:44.797000 UTC   \n",
       "5602     45344600               3649361.0  2017-07-27 07:54:31.067000 UTC   \n",
       "6180     46776128               8216953.0  2017-10-16 17:45:12.290000 UTC   \n",
       "6336     47062044               2542922.0  2017-11-01 19:11:35.847000 UTC   \n",
       "6673     47749398               2060880.0  2017-12-11 09:06:25.383000 UTC   \n",
       "\n",
       "     question_tag  year  month  \n",
       "1223       looker  2015     11  \n",
       "2130       looker  2016      5  \n",
       "5284       looker  2017      6  \n",
       "5602       looker  2017      7  \n",
       "6180       looker  2017     10  \n",
       "6336       looker  2017     11  \n",
       "6673       looker  2017     12  "
      ]
     },
     "execution_count": 26,
     "metadata": {},
     "output_type": "execute_result"
    }
   ],
   "source": [
    "looker1 = kasus1.loc[kasus1['question_tag'] == 'looker', :]\n",
    "looker1"
   ]
  },
  {
   "cell_type": "markdown",
   "id": "99b670ec",
   "metadata": {},
   "source": [
    "Melihat jumlah pertanyaan yang dibuat berdasarkan tahun dan bulan."
   ]
  },
  {
   "cell_type": "code",
   "execution_count": 27,
   "id": "9db39211",
   "metadata": {},
   "outputs": [
    {
     "data": {
      "text/html": [
       "<div>\n",
       "<style scoped>\n",
       "    .dataframe tbody tr th:only-of-type {\n",
       "        vertical-align: middle;\n",
       "    }\n",
       "\n",
       "    .dataframe tbody tr th {\n",
       "        vertical-align: top;\n",
       "    }\n",
       "\n",
       "    .dataframe thead th {\n",
       "        text-align: right;\n",
       "    }\n",
       "</style>\n",
       "<table border=\"1\" class=\"dataframe\">\n",
       "  <thead>\n",
       "    <tr style=\"text-align: right;\">\n",
       "      <th>year</th>\n",
       "      <th>2015</th>\n",
       "      <th>2016</th>\n",
       "      <th>2017</th>\n",
       "    </tr>\n",
       "    <tr>\n",
       "      <th>month</th>\n",
       "      <th></th>\n",
       "      <th></th>\n",
       "      <th></th>\n",
       "    </tr>\n",
       "  </thead>\n",
       "  <tbody>\n",
       "    <tr>\n",
       "      <th>5</th>\n",
       "      <td>NaN</td>\n",
       "      <td>1.0</td>\n",
       "      <td>NaN</td>\n",
       "    </tr>\n",
       "    <tr>\n",
       "      <th>6</th>\n",
       "      <td>NaN</td>\n",
       "      <td>NaN</td>\n",
       "      <td>1.0</td>\n",
       "    </tr>\n",
       "    <tr>\n",
       "      <th>7</th>\n",
       "      <td>NaN</td>\n",
       "      <td>NaN</td>\n",
       "      <td>1.0</td>\n",
       "    </tr>\n",
       "    <tr>\n",
       "      <th>10</th>\n",
       "      <td>NaN</td>\n",
       "      <td>NaN</td>\n",
       "      <td>1.0</td>\n",
       "    </tr>\n",
       "    <tr>\n",
       "      <th>11</th>\n",
       "      <td>1.0</td>\n",
       "      <td>NaN</td>\n",
       "      <td>1.0</td>\n",
       "    </tr>\n",
       "    <tr>\n",
       "      <th>12</th>\n",
       "      <td>NaN</td>\n",
       "      <td>NaN</td>\n",
       "      <td>1.0</td>\n",
       "    </tr>\n",
       "  </tbody>\n",
       "</table>\n",
       "</div>"
      ],
      "text/plain": [
       "year   2015  2016  2017\n",
       "month                  \n",
       "5       NaN   1.0   NaN\n",
       "6       NaN   NaN   1.0\n",
       "7       NaN   NaN   1.0\n",
       "10      NaN   NaN   1.0\n",
       "11      1.0   NaN   1.0\n",
       "12      NaN   NaN   1.0"
      ]
     },
     "execution_count": 27,
     "metadata": {},
     "output_type": "execute_result"
    }
   ],
   "source": [
    "looker1.groupby(['month', 'year'])['question_id'].count().unstack()"
   ]
  },
  {
   "cell_type": "code",
   "execution_count": 28,
   "id": "9b120a5c",
   "metadata": {},
   "outputs": [
    {
     "data": {
      "image/png": "[encoded data removed]",
      "text/plain": [
       "<Figure size 1000x500 with 1 Axes>"
      ]
     },
     "metadata": {},
     "output_type": "display_data"
    }
   ],
   "source": [
    "looker1.groupby(['month', 'year'])['question_id'].count().unstack().plot(marker = 'o', cmap = 'plasma')\n",
    "plt.title('The Number of Questions Asked\\n(Looker)', loc = 'center', pad = 20, fontsize = 20, color = 'green')\n",
    "plt.xlabel('Month', fontsize = 11)\n",
    "plt.ylabel('Total', fontsize = 11)\n",
    "plt.xticks(range(1, 13), ['Jan', 'Feb', 'Mar', 'Apr', 'May', 'Jun', 'Jul', 'Aug', 'Sep', 'Oct', 'Nov', 'Dec'])\n",
    "plt.yticks(range(0, 3, 1))\n",
    "plt.annotate('questions in\\nNovember 2015', xy = (11, 1.02), xytext = (10.23, 1.5), color = 'red',\n",
    "             arrowprops = dict(arrowstyle = '->', connectionstyle = 'arc', color = 'red'))\n",
    "plt.legend(title = 'Year', loc = 'upper center', bbox_to_anchor = (1.07, 1), shadow = True)\n",
    "plt.grid(color = 'darkgrey', linestyle = ':', linewidth = 0.5)\n",
    "plt.gcf().set_size_inches(10, 5)\n",
    "plt.tight_layout()\n",
    "plt.show()"
   ]
  },
  {
   "cell_type": "markdown",
   "id": "fd42e406",
   "metadata": {},
   "source": [
    "# Case 2: Brand Ambassador Selection\n",
    "Tim branding ingin menampilkan penulis jawaban populer di setiap tag untuk peluncuran worldwide brand ambassador di Youtube. Mereka ingin memiliki setidaknya 10 kandidat teratas di setiap tag.\n",
    "\n",
    "Manajer Anda meminta Anda untuk memastikan bahwa hanya penulis yang mendapatkan accepted answer paling banyak yang terpilih. Penulis juga tidak pernah mendapat skor minus untuk sebuah jawaban."
   ]
  },
  {
   "cell_type": "markdown",
   "id": "313af219",
   "metadata": {},
   "source": [
    "Menyiapkan subset data yang diperlukan. Kita tidak memerlukan semua kolom. Hanya kolom tertentu yang digunakan."
   ]
  },
  {
   "cell_type": "code",
   "execution_count": 29,
   "id": "47c45865",
   "metadata": {},
   "outputs": [
    {
     "data": {
      "text/html": [
       "<div>\n",
       "<style scoped>\n",
       "    .dataframe tbody tr th:only-of-type {\n",
       "        vertical-align: middle;\n",
       "    }\n",
       "\n",
       "    .dataframe tbody tr th {\n",
       "        vertical-align: top;\n",
       "    }\n",
       "\n",
       "    .dataframe thead th {\n",
       "        text-align: right;\n",
       "    }\n",
       "</style>\n",
       "<table border=\"1\" class=\"dataframe\">\n",
       "  <thead>\n",
       "    <tr style=\"text-align: right;\">\n",
       "      <th></th>\n",
       "      <th>question_tag</th>\n",
       "      <th>answer_id</th>\n",
       "      <th>answerer_user_id</th>\n",
       "      <th>answer_score</th>\n",
       "      <th>is_accepted_answer</th>\n",
       "    </tr>\n",
       "  </thead>\n",
       "  <tbody>\n",
       "    <tr>\n",
       "      <th>0</th>\n",
       "      <td>bq</td>\n",
       "      <td>27787398.0</td>\n",
       "      <td>1371484.0</td>\n",
       "      <td>1.0</td>\n",
       "      <td>False</td>\n",
       "    </tr>\n",
       "    <tr>\n",
       "      <th>1</th>\n",
       "      <td>bq</td>\n",
       "      <td>27751284.0</td>\n",
       "      <td>3624307.0</td>\n",
       "      <td>1.0</td>\n",
       "      <td>False</td>\n",
       "    </tr>\n",
       "    <tr>\n",
       "      <th>2</th>\n",
       "      <td>bq</td>\n",
       "      <td>27786830.0</td>\n",
       "      <td>1371484.0</td>\n",
       "      <td>1.0</td>\n",
       "      <td>False</td>\n",
       "    </tr>\n",
       "    <tr>\n",
       "      <th>3</th>\n",
       "      <td>bq</td>\n",
       "      <td>27880982.0</td>\n",
       "      <td>428664.0</td>\n",
       "      <td>0.0</td>\n",
       "      <td>False</td>\n",
       "    </tr>\n",
       "    <tr>\n",
       "      <th>4</th>\n",
       "      <td>bq</td>\n",
       "      <td>27785857.0</td>\n",
       "      <td>3257867.0</td>\n",
       "      <td>6.0</td>\n",
       "      <td>True</td>\n",
       "    </tr>\n",
       "  </tbody>\n",
       "</table>\n",
       "</div>"
      ],
      "text/plain": [
       "  question_tag   answer_id  answerer_user_id  answer_score  is_accepted_answer\n",
       "0           bq  27787398.0         1371484.0           1.0               False\n",
       "1           bq  27751284.0         3624307.0           1.0               False\n",
       "2           bq  27786830.0         1371484.0           1.0               False\n",
       "3           bq  27880982.0          428664.0           0.0               False\n",
       "4           bq  27785857.0         3257867.0           6.0                True"
      ]
     },
     "execution_count": 29,
     "metadata": {},
     "output_type": "execute_result"
    }
   ],
   "source": [
    "kasus2 = df[['question_tag', 'answer_id', 'answerer_user_id', 'answer_score', 'is_accepted_answer']]\n",
    "kasus2.head()"
   ]
  },
  {
   "cell_type": "markdown",
   "id": "0b108585",
   "metadata": {},
   "source": [
    "Cek duplikat dari data `kasus2`."
   ]
  },
  {
   "cell_type": "code",
   "execution_count": 30,
   "id": "a2065e1c",
   "metadata": {},
   "outputs": [
    {
     "data": {
      "text/plain": [
       "399"
      ]
     },
     "execution_count": 30,
     "metadata": {},
     "output_type": "execute_result"
    }
   ],
   "source": [
    "kasus2.duplicated().sum()"
   ]
  },
  {
   "cell_type": "markdown",
   "id": "6655642d",
   "metadata": {},
   "source": [
    "Melihat data `kasus2` yang duplikat."
   ]
  },
  {
   "cell_type": "code",
   "execution_count": 31,
   "id": "6fbf1327",
   "metadata": {},
   "outputs": [
    {
     "data": {
      "text/html": [
       "<div>\n",
       "<style scoped>\n",
       "    .dataframe tbody tr th:only-of-type {\n",
       "        vertical-align: middle;\n",
       "    }\n",
       "\n",
       "    .dataframe tbody tr th {\n",
       "        vertical-align: top;\n",
       "    }\n",
       "\n",
       "    .dataframe thead th {\n",
       "        text-align: right;\n",
       "    }\n",
       "</style>\n",
       "<table border=\"1\" class=\"dataframe\">\n",
       "  <thead>\n",
       "    <tr style=\"text-align: right;\">\n",
       "      <th></th>\n",
       "      <th>question_tag</th>\n",
       "      <th>answer_id</th>\n",
       "      <th>answerer_user_id</th>\n",
       "      <th>answer_score</th>\n",
       "      <th>is_accepted_answer</th>\n",
       "    </tr>\n",
       "  </thead>\n",
       "  <tbody>\n",
       "    <tr>\n",
       "      <th>122</th>\n",
       "      <td>bq</td>\n",
       "      <td>NaN</td>\n",
       "      <td>NaN</td>\n",
       "      <td>NaN</td>\n",
       "      <td>False</td>\n",
       "    </tr>\n",
       "    <tr>\n",
       "      <th>126</th>\n",
       "      <td>bq</td>\n",
       "      <td>NaN</td>\n",
       "      <td>NaN</td>\n",
       "      <td>NaN</td>\n",
       "      <td>False</td>\n",
       "    </tr>\n",
       "    <tr>\n",
       "      <th>169</th>\n",
       "      <td>bq</td>\n",
       "      <td>NaN</td>\n",
       "      <td>NaN</td>\n",
       "      <td>NaN</td>\n",
       "      <td>False</td>\n",
       "    </tr>\n",
       "    <tr>\n",
       "      <th>288</th>\n",
       "      <td>bq</td>\n",
       "      <td>NaN</td>\n",
       "      <td>NaN</td>\n",
       "      <td>NaN</td>\n",
       "      <td>False</td>\n",
       "    </tr>\n",
       "    <tr>\n",
       "      <th>311</th>\n",
       "      <td>bq</td>\n",
       "      <td>NaN</td>\n",
       "      <td>NaN</td>\n",
       "      <td>NaN</td>\n",
       "      <td>False</td>\n",
       "    </tr>\n",
       "    <tr>\n",
       "      <th>...</th>\n",
       "      <td>...</td>\n",
       "      <td>...</td>\n",
       "      <td>...</td>\n",
       "      <td>...</td>\n",
       "      <td>...</td>\n",
       "    </tr>\n",
       "    <tr>\n",
       "      <th>6742</th>\n",
       "      <td>bq</td>\n",
       "      <td>NaN</td>\n",
       "      <td>NaN</td>\n",
       "      <td>NaN</td>\n",
       "      <td>False</td>\n",
       "    </tr>\n",
       "    <tr>\n",
       "      <th>6754</th>\n",
       "      <td>bq</td>\n",
       "      <td>NaN</td>\n",
       "      <td>NaN</td>\n",
       "      <td>NaN</td>\n",
       "      <td>False</td>\n",
       "    </tr>\n",
       "    <tr>\n",
       "      <th>6755</th>\n",
       "      <td>bq</td>\n",
       "      <td>NaN</td>\n",
       "      <td>NaN</td>\n",
       "      <td>NaN</td>\n",
       "      <td>False</td>\n",
       "    </tr>\n",
       "    <tr>\n",
       "      <th>6759</th>\n",
       "      <td>bq</td>\n",
       "      <td>NaN</td>\n",
       "      <td>NaN</td>\n",
       "      <td>NaN</td>\n",
       "      <td>False</td>\n",
       "    </tr>\n",
       "    <tr>\n",
       "      <th>6778</th>\n",
       "      <td>bq</td>\n",
       "      <td>NaN</td>\n",
       "      <td>NaN</td>\n",
       "      <td>NaN</td>\n",
       "      <td>False</td>\n",
       "    </tr>\n",
       "  </tbody>\n",
       "</table>\n",
       "<p>399 rows × 5 columns</p>\n",
       "</div>"
      ],
      "text/plain": [
       "     question_tag  answer_id  answerer_user_id  answer_score  \\\n",
       "122            bq        NaN               NaN           NaN   \n",
       "126            bq        NaN               NaN           NaN   \n",
       "169            bq        NaN               NaN           NaN   \n",
       "288            bq        NaN               NaN           NaN   \n",
       "311            bq        NaN               NaN           NaN   \n",
       "...           ...        ...               ...           ...   \n",
       "6742           bq        NaN               NaN           NaN   \n",
       "6754           bq        NaN               NaN           NaN   \n",
       "6755           bq        NaN               NaN           NaN   \n",
       "6759           bq        NaN               NaN           NaN   \n",
       "6778           bq        NaN               NaN           NaN   \n",
       "\n",
       "      is_accepted_answer  \n",
       "122                False  \n",
       "126                False  \n",
       "169                False  \n",
       "288                False  \n",
       "311                False  \n",
       "...                  ...  \n",
       "6742               False  \n",
       "6754               False  \n",
       "6755               False  \n",
       "6759               False  \n",
       "6778               False  \n",
       "\n",
       "[399 rows x 5 columns]"
      ]
     },
     "execution_count": 31,
     "metadata": {},
     "output_type": "execute_result"
    }
   ],
   "source": [
    "kasus2[kasus2.duplicated()]"
   ]
  },
  {
   "cell_type": "markdown",
   "id": "61279080",
   "metadata": {},
   "source": [
    "Data yang duplikat pada `kasus2` dipengaruhi oleh null values. Hapus terlebih dahulu data yang duplikat kemudian cek null values data `kasus2`."
   ]
  },
  {
   "cell_type": "code",
   "execution_count": 32,
   "id": "f54a9ef2",
   "metadata": {},
   "outputs": [],
   "source": [
    "kasus2 = kasus2.drop_duplicates()"
   ]
  },
  {
   "cell_type": "code",
   "execution_count": 33,
   "id": "13937ebe",
   "metadata": {},
   "outputs": [
    {
     "data": {
      "text/plain": [
       "question_tag           0\n",
       "answer_id              3\n",
       "answerer_user_id      11\n",
       "answer_score           3\n",
       "is_accepted_answer     0\n",
       "dtype: int64"
      ]
     },
     "execution_count": 33,
     "metadata": {},
     "output_type": "execute_result"
    }
   ],
   "source": [
    "kasus2.isna().sum()"
   ]
  },
  {
   "cell_type": "markdown",
   "id": "02df5641",
   "metadata": {},
   "source": [
    "Melihat data `kasus2` yang mempunyai null values."
   ]
  },
  {
   "cell_type": "code",
   "execution_count": 34,
   "id": "6b18d3ee",
   "metadata": {},
   "outputs": [
    {
     "data": {
      "text/html": [
       "<div>\n",
       "<style scoped>\n",
       "    .dataframe tbody tr th:only-of-type {\n",
       "        vertical-align: middle;\n",
       "    }\n",
       "\n",
       "    .dataframe tbody tr th {\n",
       "        vertical-align: top;\n",
       "    }\n",
       "\n",
       "    .dataframe thead th {\n",
       "        text-align: right;\n",
       "    }\n",
       "</style>\n",
       "<table border=\"1\" class=\"dataframe\">\n",
       "  <thead>\n",
       "    <tr style=\"text-align: right;\">\n",
       "      <th></th>\n",
       "      <th>question_tag</th>\n",
       "      <th>answer_id</th>\n",
       "      <th>answerer_user_id</th>\n",
       "      <th>answer_score</th>\n",
       "      <th>is_accepted_answer</th>\n",
       "    </tr>\n",
       "  </thead>\n",
       "  <tbody>\n",
       "    <tr>\n",
       "      <th>20</th>\n",
       "      <td>bq</td>\n",
       "      <td>56973201.0</td>\n",
       "      <td>NaN</td>\n",
       "      <td>2.0</td>\n",
       "      <td>False</td>\n",
       "    </tr>\n",
       "    <tr>\n",
       "      <th>50</th>\n",
       "      <td>data-studio</td>\n",
       "      <td>NaN</td>\n",
       "      <td>NaN</td>\n",
       "      <td>NaN</td>\n",
       "      <td>False</td>\n",
       "    </tr>\n",
       "    <tr>\n",
       "      <th>57</th>\n",
       "      <td>bq</td>\n",
       "      <td>NaN</td>\n",
       "      <td>NaN</td>\n",
       "      <td>NaN</td>\n",
       "      <td>False</td>\n",
       "    </tr>\n",
       "    <tr>\n",
       "      <th>802</th>\n",
       "      <td>bq</td>\n",
       "      <td>31793685.0</td>\n",
       "      <td>NaN</td>\n",
       "      <td>2.0</td>\n",
       "      <td>False</td>\n",
       "    </tr>\n",
       "    <tr>\n",
       "      <th>1160</th>\n",
       "      <td>bq</td>\n",
       "      <td>57226034.0</td>\n",
       "      <td>NaN</td>\n",
       "      <td>0.0</td>\n",
       "      <td>False</td>\n",
       "    </tr>\n",
       "    <tr>\n",
       "      <th>1501</th>\n",
       "      <td>data-studio</td>\n",
       "      <td>34807830.0</td>\n",
       "      <td>NaN</td>\n",
       "      <td>0.0</td>\n",
       "      <td>False</td>\n",
       "    </tr>\n",
       "    <tr>\n",
       "      <th>1904</th>\n",
       "      <td>bq</td>\n",
       "      <td>36233018.0</td>\n",
       "      <td>NaN</td>\n",
       "      <td>1.0</td>\n",
       "      <td>False</td>\n",
       "    </tr>\n",
       "    <tr>\n",
       "      <th>2560</th>\n",
       "      <td>bq</td>\n",
       "      <td>38376236.0</td>\n",
       "      <td>NaN</td>\n",
       "      <td>3.0</td>\n",
       "      <td>False</td>\n",
       "    </tr>\n",
       "    <tr>\n",
       "      <th>2603</th>\n",
       "      <td>bq</td>\n",
       "      <td>38498139.0</td>\n",
       "      <td>NaN</td>\n",
       "      <td>1.0</td>\n",
       "      <td>True</td>\n",
       "    </tr>\n",
       "    <tr>\n",
       "      <th>3191</th>\n",
       "      <td>bq</td>\n",
       "      <td>54284633.0</td>\n",
       "      <td>NaN</td>\n",
       "      <td>3.0</td>\n",
       "      <td>False</td>\n",
       "    </tr>\n",
       "    <tr>\n",
       "      <th>5284</th>\n",
       "      <td>looker</td>\n",
       "      <td>NaN</td>\n",
       "      <td>NaN</td>\n",
       "      <td>NaN</td>\n",
       "      <td>False</td>\n",
       "    </tr>\n",
       "  </tbody>\n",
       "</table>\n",
       "</div>"
      ],
      "text/plain": [
       "     question_tag   answer_id  answerer_user_id  answer_score  \\\n",
       "20             bq  56973201.0               NaN           2.0   \n",
       "50    data-studio         NaN               NaN           NaN   \n",
       "57             bq         NaN               NaN           NaN   \n",
       "802            bq  31793685.0               NaN           2.0   \n",
       "1160           bq  57226034.0               NaN           0.0   \n",
       "1501  data-studio  34807830.0               NaN           0.0   \n",
       "1904           bq  36233018.0               NaN           1.0   \n",
       "2560           bq  38376236.0               NaN           3.0   \n",
       "2603           bq  38498139.0               NaN           1.0   \n",
       "3191           bq  54284633.0               NaN           3.0   \n",
       "5284       looker         NaN               NaN           NaN   \n",
       "\n",
       "      is_accepted_answer  \n",
       "20                 False  \n",
       "50                 False  \n",
       "57                 False  \n",
       "802                False  \n",
       "1160               False  \n",
       "1501               False  \n",
       "1904               False  \n",
       "2560               False  \n",
       "2603                True  \n",
       "3191               False  \n",
       "5284               False  "
      ]
     },
     "execution_count": 34,
     "metadata": {},
     "output_type": "execute_result"
    }
   ],
   "source": [
    "kasus2[kasus2.isnull().any(axis = 1)]"
   ]
  },
  {
   "cell_type": "markdown",
   "id": "bed02154",
   "metadata": {},
   "source": [
    "Data dengan kolom `answerer_user_id` yang mengandung null values perlu dihapus pada `kasus2`."
   ]
  },
  {
   "cell_type": "code",
   "execution_count": 35,
   "id": "26671919",
   "metadata": {},
   "outputs": [],
   "source": [
    "kasus2 = kasus2.dropna(subset = ['answerer_user_id'])"
   ]
  },
  {
   "cell_type": "code",
   "execution_count": 36,
   "id": "272c1ca2",
   "metadata": {},
   "outputs": [
    {
     "data": {
      "text/plain": [
       "(6385, 5)"
      ]
     },
     "execution_count": 36,
     "metadata": {},
     "output_type": "execute_result"
    }
   ],
   "source": [
    "kasus2.shape"
   ]
  },
  {
   "cell_type": "markdown",
   "id": "e5a5cac3",
   "metadata": {},
   "source": [
    "Data `kasus2` terdiri dari 6385 baris dan 5 kolom."
   ]
  },
  {
   "cell_type": "markdown",
   "id": "ba1698d0",
   "metadata": {},
   "source": [
    "Cek unique values dari kolom `question_tag` pada `kasus2`."
   ]
  },
  {
   "cell_type": "code",
   "execution_count": 37,
   "id": "656646a3",
   "metadata": {},
   "outputs": [
    {
     "name": "stdout",
     "output_type": "stream",
     "text": [
      "['bq' 'data-studio' 'looker']\n"
     ]
    }
   ],
   "source": [
    "print(kasus2['question_tag'].unique())"
   ]
  },
  {
   "cell_type": "code",
   "execution_count": 38,
   "id": "c17d16f8",
   "metadata": {},
   "outputs": [
    {
     "data": {
      "text/plain": [
       "bq             6199\n",
       "data-studio     179\n",
       "looker            7\n",
       "Name: question_tag, dtype: int64"
      ]
     },
     "execution_count": 38,
     "metadata": {},
     "output_type": "execute_result"
    }
   ],
   "source": [
    "kasus2['question_tag'].value_counts()"
   ]
  },
  {
   "cell_type": "markdown",
   "id": "3e7a9e11",
   "metadata": {},
   "source": [
    "Cek unique values dari kolom `is_accepted_answer` pada `kasus2`."
   ]
  },
  {
   "cell_type": "code",
   "execution_count": 39,
   "id": "153c4c62",
   "metadata": {},
   "outputs": [
    {
     "name": "stdout",
     "output_type": "stream",
     "text": [
      "[False  True]\n"
     ]
    }
   ],
   "source": [
    "print(kasus2['is_accepted_answer'].unique())"
   ]
  },
  {
   "cell_type": "code",
   "execution_count": 40,
   "id": "e5bb9a43",
   "metadata": {},
   "outputs": [
    {
     "data": {
      "text/plain": [
       "False    3679\n",
       "True     2706\n",
       "Name: is_accepted_answer, dtype: int64"
      ]
     },
     "execution_count": 40,
     "metadata": {},
     "output_type": "execute_result"
    }
   ],
   "source": [
    "kasus2['is_accepted_answer'].value_counts()"
   ]
  },
  {
   "cell_type": "markdown",
   "id": "47a18f0e",
   "metadata": {},
   "source": [
    "Cek distribusi dari `answer_score` pada `kasus2`."
   ]
  },
  {
   "cell_type": "code",
   "execution_count": 41,
   "id": "8dbbb2eb",
   "metadata": {},
   "outputs": [
    {
     "data": {
      "image/png": "[encoded data removed]",
      "text/plain": [
       "<Figure size 640x480 with 1 Axes>"
      ]
     },
     "metadata": {},
     "output_type": "display_data"
    }
   ],
   "source": [
    "sns.boxplot(data = kasus2, x = 'answer_score')\n",
    "plt.show()"
   ]
  },
  {
   "cell_type": "markdown",
   "id": "adc57433",
   "metadata": {},
   "source": [
    "## BigQuery"
   ]
  },
  {
   "cell_type": "markdown",
   "id": "6166341d",
   "metadata": {},
   "source": [
    "Hanya mengambil data yang `question_tag` berupa 'bq' pada `kasus2`."
   ]
  },
  {
   "cell_type": "code",
   "execution_count": 42,
   "id": "bea5f2af",
   "metadata": {},
   "outputs": [
    {
     "data": {
      "text/html": [
       "<div>\n",
       "<style scoped>\n",
       "    .dataframe tbody tr th:only-of-type {\n",
       "        vertical-align: middle;\n",
       "    }\n",
       "\n",
       "    .dataframe tbody tr th {\n",
       "        vertical-align: top;\n",
       "    }\n",
       "\n",
       "    .dataframe thead th {\n",
       "        text-align: right;\n",
       "    }\n",
       "</style>\n",
       "<table border=\"1\" class=\"dataframe\">\n",
       "  <thead>\n",
       "    <tr style=\"text-align: right;\">\n",
       "      <th></th>\n",
       "      <th>question_tag</th>\n",
       "      <th>answer_id</th>\n",
       "      <th>answerer_user_id</th>\n",
       "      <th>answer_score</th>\n",
       "      <th>is_accepted_answer</th>\n",
       "    </tr>\n",
       "  </thead>\n",
       "  <tbody>\n",
       "    <tr>\n",
       "      <th>0</th>\n",
       "      <td>bq</td>\n",
       "      <td>27787398.0</td>\n",
       "      <td>1371484.0</td>\n",
       "      <td>1.0</td>\n",
       "      <td>False</td>\n",
       "    </tr>\n",
       "    <tr>\n",
       "      <th>1</th>\n",
       "      <td>bq</td>\n",
       "      <td>27751284.0</td>\n",
       "      <td>3624307.0</td>\n",
       "      <td>1.0</td>\n",
       "      <td>False</td>\n",
       "    </tr>\n",
       "    <tr>\n",
       "      <th>2</th>\n",
       "      <td>bq</td>\n",
       "      <td>27786830.0</td>\n",
       "      <td>1371484.0</td>\n",
       "      <td>1.0</td>\n",
       "      <td>False</td>\n",
       "    </tr>\n",
       "    <tr>\n",
       "      <th>3</th>\n",
       "      <td>bq</td>\n",
       "      <td>27880982.0</td>\n",
       "      <td>428664.0</td>\n",
       "      <td>0.0</td>\n",
       "      <td>False</td>\n",
       "    </tr>\n",
       "    <tr>\n",
       "      <th>4</th>\n",
       "      <td>bq</td>\n",
       "      <td>27785857.0</td>\n",
       "      <td>3257867.0</td>\n",
       "      <td>6.0</td>\n",
       "      <td>True</td>\n",
       "    </tr>\n",
       "  </tbody>\n",
       "</table>\n",
       "</div>"
      ],
      "text/plain": [
       "  question_tag   answer_id  answerer_user_id  answer_score  is_accepted_answer\n",
       "0           bq  27787398.0         1371484.0           1.0               False\n",
       "1           bq  27751284.0         3624307.0           1.0               False\n",
       "2           bq  27786830.0         1371484.0           1.0               False\n",
       "3           bq  27880982.0          428664.0           0.0               False\n",
       "4           bq  27785857.0         3257867.0           6.0                True"
      ]
     },
     "execution_count": 42,
     "metadata": {},
     "output_type": "execute_result"
    }
   ],
   "source": [
    "bq2 = kasus2[kasus2['question_tag'] == 'bq']\n",
    "bq2.head()"
   ]
  },
  {
   "cell_type": "markdown",
   "id": "45669d06",
   "metadata": {},
   "source": [
    "Melihat `answerer_user_id` yang pernah mendapatkan minus score untuk `question_tag` 'bq'."
   ]
  },
  {
   "cell_type": "code",
   "execution_count": 43,
   "id": "2f9126cc",
   "metadata": {},
   "outputs": [
    {
     "data": {
      "text/html": [
       "<div>\n",
       "<style scoped>\n",
       "    .dataframe tbody tr th:only-of-type {\n",
       "        vertical-align: middle;\n",
       "    }\n",
       "\n",
       "    .dataframe tbody tr th {\n",
       "        vertical-align: top;\n",
       "    }\n",
       "\n",
       "    .dataframe thead th {\n",
       "        text-align: right;\n",
       "    }\n",
       "</style>\n",
       "<table border=\"1\" class=\"dataframe\">\n",
       "  <thead>\n",
       "    <tr style=\"text-align: right;\">\n",
       "      <th></th>\n",
       "      <th>question_tag</th>\n",
       "      <th>answer_id</th>\n",
       "      <th>answerer_user_id</th>\n",
       "      <th>answer_score</th>\n",
       "      <th>is_accepted_answer</th>\n",
       "    </tr>\n",
       "  </thead>\n",
       "  <tbody>\n",
       "    <tr>\n",
       "      <th>64</th>\n",
       "      <td>bq</td>\n",
       "      <td>28191353.0</td>\n",
       "      <td>4502697.0</td>\n",
       "      <td>-3.0</td>\n",
       "      <td>False</td>\n",
       "    </tr>\n",
       "    <tr>\n",
       "      <th>148</th>\n",
       "      <td>bq</td>\n",
       "      <td>50569234.0</td>\n",
       "      <td>7296501.0</td>\n",
       "      <td>-1.0</td>\n",
       "      <td>False</td>\n",
       "    </tr>\n",
       "    <tr>\n",
       "      <th>257</th>\n",
       "      <td>bq</td>\n",
       "      <td>29119305.0</td>\n",
       "      <td>132438.0</td>\n",
       "      <td>-2.0</td>\n",
       "      <td>False</td>\n",
       "    </tr>\n",
       "    <tr>\n",
       "      <th>445</th>\n",
       "      <td>bq</td>\n",
       "      <td>45510104.0</td>\n",
       "      <td>8417967.0</td>\n",
       "      <td>-1.0</td>\n",
       "      <td>False</td>\n",
       "    </tr>\n",
       "    <tr>\n",
       "      <th>491</th>\n",
       "      <td>bq</td>\n",
       "      <td>30381933.0</td>\n",
       "      <td>4921951.0</td>\n",
       "      <td>-2.0</td>\n",
       "      <td>False</td>\n",
       "    </tr>\n",
       "  </tbody>\n",
       "</table>\n",
       "</div>"
      ],
      "text/plain": [
       "    question_tag   answer_id  answerer_user_id  answer_score  \\\n",
       "64            bq  28191353.0         4502697.0          -3.0   \n",
       "148           bq  50569234.0         7296501.0          -1.0   \n",
       "257           bq  29119305.0          132438.0          -2.0   \n",
       "445           bq  45510104.0         8417967.0          -1.0   \n",
       "491           bq  30381933.0         4921951.0          -2.0   \n",
       "\n",
       "     is_accepted_answer  \n",
       "64                False  \n",
       "148               False  \n",
       "257               False  \n",
       "445               False  \n",
       "491               False  "
      ]
     },
     "execution_count": 43,
     "metadata": {},
     "output_type": "execute_result"
    }
   ],
   "source": [
    "minus_score_bq = bq2[bq2['answer_score'] < 0]\n",
    "minus_score_bq.head()"
   ]
  },
  {
   "cell_type": "markdown",
   "id": "aa932c4b",
   "metadata": {},
   "source": [
    "Melihat jumlah `is_accepted_answer` yang 'True' dan 'False' untuk masing-masing `answerer_user_id` dengan `question_tag` 'bq'."
   ]
  },
  {
   "cell_type": "code",
   "execution_count": 44,
   "id": "fc30cb7d",
   "metadata": {},
   "outputs": [
    {
     "data": {
      "text/html": [
       "<div>\n",
       "<style scoped>\n",
       "    .dataframe tbody tr th:only-of-type {\n",
       "        vertical-align: middle;\n",
       "    }\n",
       "\n",
       "    .dataframe tbody tr th {\n",
       "        vertical-align: top;\n",
       "    }\n",
       "\n",
       "    .dataframe thead th {\n",
       "        text-align: right;\n",
       "    }\n",
       "</style>\n",
       "<table border=\"1\" class=\"dataframe\">\n",
       "  <thead>\n",
       "    <tr style=\"text-align: right;\">\n",
       "      <th></th>\n",
       "      <th></th>\n",
       "      <th>total</th>\n",
       "    </tr>\n",
       "    <tr>\n",
       "      <th>answerer_user_id</th>\n",
       "      <th>is_accepted_answer</th>\n",
       "      <th></th>\n",
       "    </tr>\n",
       "  </thead>\n",
       "  <tbody>\n",
       "    <tr>\n",
       "      <th>4279.0</th>\n",
       "      <th>False</th>\n",
       "      <td>1</td>\n",
       "    </tr>\n",
       "    <tr>\n",
       "      <th>4323.0</th>\n",
       "      <th>True</th>\n",
       "      <td>1</td>\n",
       "    </tr>\n",
       "    <tr>\n",
       "      <th>4494.0</th>\n",
       "      <th>False</th>\n",
       "      <td>1</td>\n",
       "    </tr>\n",
       "    <tr>\n",
       "      <th>7031.0</th>\n",
       "      <th>False</th>\n",
       "      <td>1</td>\n",
       "    </tr>\n",
       "    <tr>\n",
       "      <th>7587.0</th>\n",
       "      <th>True</th>\n",
       "      <td>1</td>\n",
       "    </tr>\n",
       "    <tr>\n",
       "      <th>...</th>\n",
       "      <th>...</th>\n",
       "      <td>...</td>\n",
       "    </tr>\n",
       "    <tr>\n",
       "      <th>19206739.0</th>\n",
       "      <th>False</th>\n",
       "      <td>1</td>\n",
       "    </tr>\n",
       "    <tr>\n",
       "      <th>19259511.0</th>\n",
       "      <th>False</th>\n",
       "      <td>1</td>\n",
       "    </tr>\n",
       "    <tr>\n",
       "      <th>19355112.0</th>\n",
       "      <th>False</th>\n",
       "      <td>1</td>\n",
       "    </tr>\n",
       "    <tr>\n",
       "      <th>19534293.0</th>\n",
       "      <th>False</th>\n",
       "      <td>1</td>\n",
       "    </tr>\n",
       "    <tr>\n",
       "      <th>19542794.0</th>\n",
       "      <th>False</th>\n",
       "      <td>1</td>\n",
       "    </tr>\n",
       "  </tbody>\n",
       "</table>\n",
       "<p>1925 rows × 1 columns</p>\n",
       "</div>"
      ],
      "text/plain": [
       "                                     total\n",
       "answerer_user_id is_accepted_answer       \n",
       "4279.0           False                   1\n",
       "4323.0           True                    1\n",
       "4494.0           False                   1\n",
       "7031.0           False                   1\n",
       "7587.0           True                    1\n",
       "...                                    ...\n",
       "19206739.0       False                   1\n",
       "19259511.0       False                   1\n",
       "19355112.0       False                   1\n",
       "19534293.0       False                   1\n",
       "19542794.0       False                   1\n",
       "\n",
       "[1925 rows x 1 columns]"
      ]
     },
     "execution_count": 44,
     "metadata": {},
     "output_type": "execute_result"
    }
   ],
   "source": [
    "bq_answer = pd.DataFrame(bq2.groupby(['answerer_user_id', 'is_accepted_answer']).size())\n",
    "bq_answer.rename(columns = {0: 'total'}, inplace = True)\n",
    "bq_answer"
   ]
  },
  {
   "cell_type": "markdown",
   "id": "85b30096",
   "metadata": {},
   "source": [
    "Menampilkan top 10 dengan total `is_accepted_answer` 'True' terbanyak dan tidak pernah mendapatkan minus score."
   ]
  },
  {
   "cell_type": "code",
   "execution_count": 45,
   "id": "f92d4c86",
   "metadata": {},
   "outputs": [
    {
     "data": {
      "text/html": [
       "<div>\n",
       "<style scoped>\n",
       "    .dataframe tbody tr th:only-of-type {\n",
       "        vertical-align: middle;\n",
       "    }\n",
       "\n",
       "    .dataframe tbody tr th {\n",
       "        vertical-align: top;\n",
       "    }\n",
       "\n",
       "    .dataframe thead th {\n",
       "        text-align: right;\n",
       "    }\n",
       "</style>\n",
       "<table border=\"1\" class=\"dataframe\">\n",
       "  <thead>\n",
       "    <tr style=\"text-align: right;\">\n",
       "      <th></th>\n",
       "      <th>answerer_user_id</th>\n",
       "      <th>total</th>\n",
       "    </tr>\n",
       "  </thead>\n",
       "  <tbody>\n",
       "    <tr>\n",
       "      <th>0</th>\n",
       "      <td>6253347.0</td>\n",
       "      <td>203</td>\n",
       "    </tr>\n",
       "    <tr>\n",
       "      <th>1</th>\n",
       "      <td>243782.0</td>\n",
       "      <td>169</td>\n",
       "    </tr>\n",
       "    <tr>\n",
       "      <th>2</th>\n",
       "      <td>4490873.0</td>\n",
       "      <td>123</td>\n",
       "    </tr>\n",
       "    <tr>\n",
       "      <th>3</th>\n",
       "      <td>2877278.0</td>\n",
       "      <td>96</td>\n",
       "    </tr>\n",
       "    <tr>\n",
       "      <th>4</th>\n",
       "      <td>1375400.0</td>\n",
       "      <td>57</td>\n",
       "    </tr>\n",
       "    <tr>\n",
       "      <th>5</th>\n",
       "      <td>4001094.0</td>\n",
       "      <td>46</td>\n",
       "    </tr>\n",
       "    <tr>\n",
       "      <th>6</th>\n",
       "      <td>1366527.0</td>\n",
       "      <td>45</td>\n",
       "    </tr>\n",
       "    <tr>\n",
       "      <th>7</th>\n",
       "      <td>1144035.0</td>\n",
       "      <td>43</td>\n",
       "    </tr>\n",
       "    <tr>\n",
       "      <th>8</th>\n",
       "      <td>5071793.0</td>\n",
       "      <td>27</td>\n",
       "    </tr>\n",
       "    <tr>\n",
       "      <th>9</th>\n",
       "      <td>1371484.0</td>\n",
       "      <td>24</td>\n",
       "    </tr>\n",
       "  </tbody>\n",
       "</table>\n",
       "</div>"
      ],
      "text/plain": [
       "   answerer_user_id  total\n",
       "0         6253347.0    203\n",
       "1          243782.0    169\n",
       "2         4490873.0    123\n",
       "3         2877278.0     96\n",
       "4         1375400.0     57\n",
       "5         4001094.0     46\n",
       "6         1366527.0     45\n",
       "7         1144035.0     43\n",
       "8         5071793.0     27\n",
       "9         1371484.0     24"
      ]
     },
     "execution_count": 45,
     "metadata": {},
     "output_type": "execute_result"
    }
   ],
   "source": [
    "bq_answer.reset_index(inplace = True)\n",
    "top_bq = bq_answer.set_index('answerer_user_id')\n",
    "top_bq = top_bq.drop(list(minus_score_bq['answerer_user_id'].unique()))\n",
    "top_bq = top_bq[top_bq['is_accepted_answer'] == True]['total']\n",
    "top_bq = top_bq.sort_values(ascending = False).reset_index()\n",
    "top_bq.head(10)"
   ]
  },
  {
   "cell_type": "markdown",
   "id": "d7e14bd0",
   "metadata": {},
   "source": [
    "### Data-Studio"
   ]
  },
  {
   "cell_type": "markdown",
   "id": "cf2dd777",
   "metadata": {},
   "source": [
    "Hanya mengambil data yang `question_tag` berupa 'data-studio' pada `kasus2`."
   ]
  },
  {
   "cell_type": "code",
   "execution_count": 46,
   "id": "f1397b34",
   "metadata": {},
   "outputs": [
    {
     "data": {
      "text/html": [
       "<div>\n",
       "<style scoped>\n",
       "    .dataframe tbody tr th:only-of-type {\n",
       "        vertical-align: middle;\n",
       "    }\n",
       "\n",
       "    .dataframe tbody tr th {\n",
       "        vertical-align: top;\n",
       "    }\n",
       "\n",
       "    .dataframe thead th {\n",
       "        text-align: right;\n",
       "    }\n",
       "</style>\n",
       "<table border=\"1\" class=\"dataframe\">\n",
       "  <thead>\n",
       "    <tr style=\"text-align: right;\">\n",
       "      <th></th>\n",
       "      <th>question_tag</th>\n",
       "      <th>answer_id</th>\n",
       "      <th>answerer_user_id</th>\n",
       "      <th>answer_score</th>\n",
       "      <th>is_accepted_answer</th>\n",
       "    </tr>\n",
       "  </thead>\n",
       "  <tbody>\n",
       "    <tr>\n",
       "      <th>56</th>\n",
       "      <td>data-studio</td>\n",
       "      <td>52426912.0</td>\n",
       "      <td>9525344.0</td>\n",
       "      <td>0.0</td>\n",
       "      <td>False</td>\n",
       "    </tr>\n",
       "    <tr>\n",
       "      <th>162</th>\n",
       "      <td>data-studio</td>\n",
       "      <td>30641864.0</td>\n",
       "      <td>3169049.0</td>\n",
       "      <td>3.0</td>\n",
       "      <td>False</td>\n",
       "    </tr>\n",
       "    <tr>\n",
       "      <th>163</th>\n",
       "      <td>data-studio</td>\n",
       "      <td>35297256.0</td>\n",
       "      <td>5904307.0</td>\n",
       "      <td>0.0</td>\n",
       "      <td>False</td>\n",
       "    </tr>\n",
       "    <tr>\n",
       "      <th>172</th>\n",
       "      <td>data-studio</td>\n",
       "      <td>28636493.0</td>\n",
       "      <td>154726.0</td>\n",
       "      <td>1.0</td>\n",
       "      <td>True</td>\n",
       "    </tr>\n",
       "    <tr>\n",
       "      <th>225</th>\n",
       "      <td>data-studio</td>\n",
       "      <td>31778412.0</td>\n",
       "      <td>1130145.0</td>\n",
       "      <td>0.0</td>\n",
       "      <td>False</td>\n",
       "    </tr>\n",
       "  </tbody>\n",
       "</table>\n",
       "</div>"
      ],
      "text/plain": [
       "    question_tag   answer_id  answerer_user_id  answer_score  \\\n",
       "56   data-studio  52426912.0         9525344.0           0.0   \n",
       "162  data-studio  30641864.0         3169049.0           3.0   \n",
       "163  data-studio  35297256.0         5904307.0           0.0   \n",
       "172  data-studio  28636493.0          154726.0           1.0   \n",
       "225  data-studio  31778412.0         1130145.0           0.0   \n",
       "\n",
       "     is_accepted_answer  \n",
       "56                False  \n",
       "162               False  \n",
       "163               False  \n",
       "172                True  \n",
       "225               False  "
      ]
     },
     "execution_count": 46,
     "metadata": {},
     "output_type": "execute_result"
    }
   ],
   "source": [
    "ds2 = kasus2[kasus2['question_tag'] == 'data-studio']\n",
    "ds2.head()"
   ]
  },
  {
   "cell_type": "markdown",
   "id": "527cf5d2",
   "metadata": {},
   "source": [
    "Melihat `answerer_user_id` yang pernah mendapatkan minus score untuk `question_tag` 'data-studio'."
   ]
  },
  {
   "cell_type": "code",
   "execution_count": 47,
   "id": "f257b9b1",
   "metadata": {},
   "outputs": [
    {
     "data": {
      "text/html": [
       "<div>\n",
       "<style scoped>\n",
       "    .dataframe tbody tr th:only-of-type {\n",
       "        vertical-align: middle;\n",
       "    }\n",
       "\n",
       "    .dataframe tbody tr th {\n",
       "        vertical-align: top;\n",
       "    }\n",
       "\n",
       "    .dataframe thead th {\n",
       "        text-align: right;\n",
       "    }\n",
       "</style>\n",
       "<table border=\"1\" class=\"dataframe\">\n",
       "  <thead>\n",
       "    <tr style=\"text-align: right;\">\n",
       "      <th></th>\n",
       "      <th>question_tag</th>\n",
       "      <th>answer_id</th>\n",
       "      <th>answerer_user_id</th>\n",
       "      <th>answer_score</th>\n",
       "      <th>is_accepted_answer</th>\n",
       "    </tr>\n",
       "  </thead>\n",
       "  <tbody>\n",
       "    <tr>\n",
       "      <th>1891</th>\n",
       "      <td>data-studio</td>\n",
       "      <td>36445311.0</td>\n",
       "      <td>2293534.0</td>\n",
       "      <td>-1.0</td>\n",
       "      <td>False</td>\n",
       "    </tr>\n",
       "    <tr>\n",
       "      <th>4860</th>\n",
       "      <td>data-studio</td>\n",
       "      <td>51543264.0</td>\n",
       "      <td>10140223.0</td>\n",
       "      <td>-1.0</td>\n",
       "      <td>False</td>\n",
       "    </tr>\n",
       "    <tr>\n",
       "      <th>5883</th>\n",
       "      <td>data-studio</td>\n",
       "      <td>70592929.0</td>\n",
       "      <td>8148244.0</td>\n",
       "      <td>-1.0</td>\n",
       "      <td>False</td>\n",
       "    </tr>\n",
       "    <tr>\n",
       "      <th>6757</th>\n",
       "      <td>data-studio</td>\n",
       "      <td>69497835.0</td>\n",
       "      <td>3911923.0</td>\n",
       "      <td>-1.0</td>\n",
       "      <td>False</td>\n",
       "    </tr>\n",
       "  </tbody>\n",
       "</table>\n",
       "</div>"
      ],
      "text/plain": [
       "     question_tag   answer_id  answerer_user_id  answer_score  \\\n",
       "1891  data-studio  36445311.0         2293534.0          -1.0   \n",
       "4860  data-studio  51543264.0        10140223.0          -1.0   \n",
       "5883  data-studio  70592929.0         8148244.0          -1.0   \n",
       "6757  data-studio  69497835.0         3911923.0          -1.0   \n",
       "\n",
       "      is_accepted_answer  \n",
       "1891               False  \n",
       "4860               False  \n",
       "5883               False  \n",
       "6757               False  "
      ]
     },
     "execution_count": 47,
     "metadata": {},
     "output_type": "execute_result"
    }
   ],
   "source": [
    "minus_score_ds = ds2[ds2['answer_score'] < 0]\n",
    "minus_score_ds"
   ]
  },
  {
   "cell_type": "markdown",
   "id": "0c599da5",
   "metadata": {},
   "source": [
    "Melihat jumlah `is_accepted_answer` yang 'True' dan 'False' untuk masing-masing `answerer_user_id` dengan `question_tag` 'data-studio'."
   ]
  },
  {
   "cell_type": "code",
   "execution_count": 48,
   "id": "6204a1b3",
   "metadata": {},
   "outputs": [
    {
     "data": {
      "text/html": [
       "<div>\n",
       "<style scoped>\n",
       "    .dataframe tbody tr th:only-of-type {\n",
       "        vertical-align: middle;\n",
       "    }\n",
       "\n",
       "    .dataframe tbody tr th {\n",
       "        vertical-align: top;\n",
       "    }\n",
       "\n",
       "    .dataframe thead th {\n",
       "        text-align: right;\n",
       "    }\n",
       "</style>\n",
       "<table border=\"1\" class=\"dataframe\">\n",
       "  <thead>\n",
       "    <tr style=\"text-align: right;\">\n",
       "      <th></th>\n",
       "      <th></th>\n",
       "      <th>total</th>\n",
       "    </tr>\n",
       "    <tr>\n",
       "      <th>answerer_user_id</th>\n",
       "      <th>is_accepted_answer</th>\n",
       "      <th></th>\n",
       "    </tr>\n",
       "  </thead>\n",
       "  <tbody>\n",
       "    <tr>\n",
       "      <th>27048.0</th>\n",
       "      <th>True</th>\n",
       "      <td>1</td>\n",
       "    </tr>\n",
       "    <tr>\n",
       "      <th>154640.0</th>\n",
       "      <th>True</th>\n",
       "      <td>1</td>\n",
       "    </tr>\n",
       "    <tr>\n",
       "      <th rowspan=\"2\" valign=\"top\">154726.0</th>\n",
       "      <th>False</th>\n",
       "      <td>1</td>\n",
       "    </tr>\n",
       "    <tr>\n",
       "      <th>True</th>\n",
       "      <td>1</td>\n",
       "    </tr>\n",
       "    <tr>\n",
       "      <th>272031.0</th>\n",
       "      <th>False</th>\n",
       "      <td>1</td>\n",
       "    </tr>\n",
       "    <tr>\n",
       "      <th>...</th>\n",
       "      <th>...</th>\n",
       "      <td>...</td>\n",
       "    </tr>\n",
       "    <tr>\n",
       "      <th rowspan=\"2\" valign=\"top\">12892553.0</th>\n",
       "      <th>False</th>\n",
       "      <td>4</td>\n",
       "    </tr>\n",
       "    <tr>\n",
       "      <th>True</th>\n",
       "      <td>2</td>\n",
       "    </tr>\n",
       "    <tr>\n",
       "      <th>13211522.0</th>\n",
       "      <th>False</th>\n",
       "      <td>1</td>\n",
       "    </tr>\n",
       "    <tr>\n",
       "      <th>14049988.0</th>\n",
       "      <th>False</th>\n",
       "      <td>1</td>\n",
       "    </tr>\n",
       "    <tr>\n",
       "      <th>14947304.0</th>\n",
       "      <th>False</th>\n",
       "      <td>1</td>\n",
       "    </tr>\n",
       "  </tbody>\n",
       "</table>\n",
       "<p>129 rows × 1 columns</p>\n",
       "</div>"
      ],
      "text/plain": [
       "                                     total\n",
       "answerer_user_id is_accepted_answer       \n",
       "27048.0          True                    1\n",
       "154640.0         True                    1\n",
       "154726.0         False                   1\n",
       "                 True                    1\n",
       "272031.0         False                   1\n",
       "...                                    ...\n",
       "12892553.0       False                   4\n",
       "                 True                    2\n",
       "13211522.0       False                   1\n",
       "14049988.0       False                   1\n",
       "14947304.0       False                   1\n",
       "\n",
       "[129 rows x 1 columns]"
      ]
     },
     "execution_count": 48,
     "metadata": {},
     "output_type": "execute_result"
    }
   ],
   "source": [
    "ds_answer = pd.DataFrame(ds2.groupby(['answerer_user_id', 'is_accepted_answer']).size())\n",
    "ds_answer.rename(columns = {0: 'total'}, inplace = True)\n",
    "ds_answer"
   ]
  },
  {
   "cell_type": "markdown",
   "id": "89b86ed3",
   "metadata": {},
   "source": [
    "Menampilkan top 10 dengan total `is_accepted_answer` 'True' terbanyak dan tidak pernah mendapatkan minus score."
   ]
  },
  {
   "cell_type": "code",
   "execution_count": 49,
   "id": "08d577e2",
   "metadata": {},
   "outputs": [
    {
     "data": {
      "text/html": [
       "<div>\n",
       "<style scoped>\n",
       "    .dataframe tbody tr th:only-of-type {\n",
       "        vertical-align: middle;\n",
       "    }\n",
       "\n",
       "    .dataframe tbody tr th {\n",
       "        vertical-align: top;\n",
       "    }\n",
       "\n",
       "    .dataframe thead th {\n",
       "        text-align: right;\n",
       "    }\n",
       "</style>\n",
       "<table border=\"1\" class=\"dataframe\">\n",
       "  <thead>\n",
       "    <tr style=\"text-align: right;\">\n",
       "      <th></th>\n",
       "      <th>answerer_user_id</th>\n",
       "      <th>total</th>\n",
       "    </tr>\n",
       "  </thead>\n",
       "  <tbody>\n",
       "    <tr>\n",
       "      <th>0</th>\n",
       "      <td>4024072.0</td>\n",
       "      <td>13</td>\n",
       "    </tr>\n",
       "    <tr>\n",
       "      <th>1</th>\n",
       "      <td>3832970.0</td>\n",
       "      <td>6</td>\n",
       "    </tr>\n",
       "    <tr>\n",
       "      <th>2</th>\n",
       "      <td>12892553.0</td>\n",
       "      <td>2</td>\n",
       "    </tr>\n",
       "    <tr>\n",
       "      <th>3</th>\n",
       "      <td>5959625.0</td>\n",
       "      <td>2</td>\n",
       "    </tr>\n",
       "    <tr>\n",
       "      <th>4</th>\n",
       "      <td>5032191.0</td>\n",
       "      <td>1</td>\n",
       "    </tr>\n",
       "    <tr>\n",
       "      <th>5</th>\n",
       "      <td>4213274.0</td>\n",
       "      <td>1</td>\n",
       "    </tr>\n",
       "    <tr>\n",
       "      <th>6</th>\n",
       "      <td>4487639.0</td>\n",
       "      <td>1</td>\n",
       "    </tr>\n",
       "    <tr>\n",
       "      <th>7</th>\n",
       "      <td>4605585.0</td>\n",
       "      <td>1</td>\n",
       "    </tr>\n",
       "    <tr>\n",
       "      <th>8</th>\n",
       "      <td>4923755.0</td>\n",
       "      <td>1</td>\n",
       "    </tr>\n",
       "    <tr>\n",
       "      <th>9</th>\n",
       "      <td>5269121.0</td>\n",
       "      <td>1</td>\n",
       "    </tr>\n",
       "  </tbody>\n",
       "</table>\n",
       "</div>"
      ],
      "text/plain": [
       "   answerer_user_id  total\n",
       "0         4024072.0     13\n",
       "1         3832970.0      6\n",
       "2        12892553.0      2\n",
       "3         5959625.0      2\n",
       "4         5032191.0      1\n",
       "5         4213274.0      1\n",
       "6         4487639.0      1\n",
       "7         4605585.0      1\n",
       "8         4923755.0      1\n",
       "9         5269121.0      1"
      ]
     },
     "execution_count": 49,
     "metadata": {},
     "output_type": "execute_result"
    }
   ],
   "source": [
    "ds_answer.reset_index(inplace = True)\n",
    "top_ds = ds_answer.set_index('answerer_user_id')\n",
    "top_ds = top_ds.drop(list(minus_score_ds['answerer_user_id'].unique()))\n",
    "top_ds = top_ds[top_ds['is_accepted_answer'] == True]['total']\n",
    "top_ds = top_ds.sort_values(ascending = False).reset_index()\n",
    "top_ds.head(10)"
   ]
  },
  {
   "cell_type": "markdown",
   "id": "a9063ce9",
   "metadata": {},
   "source": [
    "### Looker"
   ]
  },
  {
   "cell_type": "markdown",
   "id": "8ad524e9",
   "metadata": {},
   "source": [
    "Hanya mengambil data yang `question_tag` berupa 'looker' pada `kasus2`."
   ]
  },
  {
   "cell_type": "code",
   "execution_count": 50,
   "id": "a8a904de",
   "metadata": {},
   "outputs": [
    {
     "data": {
      "text/html": [
       "<div>\n",
       "<style scoped>\n",
       "    .dataframe tbody tr th:only-of-type {\n",
       "        vertical-align: middle;\n",
       "    }\n",
       "\n",
       "    .dataframe tbody tr th {\n",
       "        vertical-align: top;\n",
       "    }\n",
       "\n",
       "    .dataframe thead th {\n",
       "        text-align: right;\n",
       "    }\n",
       "</style>\n",
       "<table border=\"1\" class=\"dataframe\">\n",
       "  <thead>\n",
       "    <tr style=\"text-align: right;\">\n",
       "      <th></th>\n",
       "      <th>question_tag</th>\n",
       "      <th>answer_id</th>\n",
       "      <th>answerer_user_id</th>\n",
       "      <th>answer_score</th>\n",
       "      <th>is_accepted_answer</th>\n",
       "    </tr>\n",
       "  </thead>\n",
       "  <tbody>\n",
       "    <tr>\n",
       "      <th>1223</th>\n",
       "      <td>looker</td>\n",
       "      <td>34455705.0</td>\n",
       "      <td>5715000.0</td>\n",
       "      <td>3.0</td>\n",
       "      <td>False</td>\n",
       "    </tr>\n",
       "    <tr>\n",
       "      <th>2130</th>\n",
       "      <td>looker</td>\n",
       "      <td>41274626.0</td>\n",
       "      <td>1904852.0</td>\n",
       "      <td>1.0</td>\n",
       "      <td>True</td>\n",
       "    </tr>\n",
       "    <tr>\n",
       "      <th>2131</th>\n",
       "      <td>looker</td>\n",
       "      <td>36978241.0</td>\n",
       "      <td>285462.0</td>\n",
       "      <td>1.0</td>\n",
       "      <td>False</td>\n",
       "    </tr>\n",
       "    <tr>\n",
       "      <th>5602</th>\n",
       "      <td>looker</td>\n",
       "      <td>45669253.0</td>\n",
       "      <td>3649361.0</td>\n",
       "      <td>1.0</td>\n",
       "      <td>False</td>\n",
       "    </tr>\n",
       "    <tr>\n",
       "      <th>6180</th>\n",
       "      <td>looker</td>\n",
       "      <td>58560475.0</td>\n",
       "      <td>12274369.0</td>\n",
       "      <td>0.0</td>\n",
       "      <td>False</td>\n",
       "    </tr>\n",
       "    <tr>\n",
       "      <th>6181</th>\n",
       "      <td>looker</td>\n",
       "      <td>47226869.0</td>\n",
       "      <td>8886959.0</td>\n",
       "      <td>5.0</td>\n",
       "      <td>False</td>\n",
       "    </tr>\n",
       "    <tr>\n",
       "      <th>6336</th>\n",
       "      <td>looker</td>\n",
       "      <td>47582800.0</td>\n",
       "      <td>4107956.0</td>\n",
       "      <td>1.0</td>\n",
       "      <td>False</td>\n",
       "    </tr>\n",
       "  </tbody>\n",
       "</table>\n",
       "</div>"
      ],
      "text/plain": [
       "     question_tag   answer_id  answerer_user_id  answer_score  \\\n",
       "1223       looker  34455705.0         5715000.0           3.0   \n",
       "2130       looker  41274626.0         1904852.0           1.0   \n",
       "2131       looker  36978241.0          285462.0           1.0   \n",
       "5602       looker  45669253.0         3649361.0           1.0   \n",
       "6180       looker  58560475.0        12274369.0           0.0   \n",
       "6181       looker  47226869.0         8886959.0           5.0   \n",
       "6336       looker  47582800.0         4107956.0           1.0   \n",
       "\n",
       "      is_accepted_answer  \n",
       "1223               False  \n",
       "2130                True  \n",
       "2131               False  \n",
       "5602               False  \n",
       "6180               False  \n",
       "6181               False  \n",
       "6336               False  "
      ]
     },
     "execution_count": 50,
     "metadata": {},
     "output_type": "execute_result"
    }
   ],
   "source": [
    "looker2 = kasus2[kasus2['question_tag'] == 'looker']\n",
    "looker2"
   ]
  },
  {
   "cell_type": "markdown",
   "id": "9f3d6dde",
   "metadata": {},
   "source": [
    "Melihat `answerer_user_id` yang pernah mendapatkan minus score untuk `question_tag` 'looker'."
   ]
  },
  {
   "cell_type": "code",
   "execution_count": 51,
   "id": "2e4d18a1",
   "metadata": {},
   "outputs": [
    {
     "data": {
      "text/html": [
       "<div>\n",
       "<style scoped>\n",
       "    .dataframe tbody tr th:only-of-type {\n",
       "        vertical-align: middle;\n",
       "    }\n",
       "\n",
       "    .dataframe tbody tr th {\n",
       "        vertical-align: top;\n",
       "    }\n",
       "\n",
       "    .dataframe thead th {\n",
       "        text-align: right;\n",
       "    }\n",
       "</style>\n",
       "<table border=\"1\" class=\"dataframe\">\n",
       "  <thead>\n",
       "    <tr style=\"text-align: right;\">\n",
       "      <th></th>\n",
       "      <th>question_tag</th>\n",
       "      <th>answer_id</th>\n",
       "      <th>answerer_user_id</th>\n",
       "      <th>answer_score</th>\n",
       "      <th>is_accepted_answer</th>\n",
       "    </tr>\n",
       "  </thead>\n",
       "  <tbody>\n",
       "  </tbody>\n",
       "</table>\n",
       "</div>"
      ],
      "text/plain": [
       "Empty DataFrame\n",
       "Columns: [question_tag, answer_id, answerer_user_id, answer_score, is_accepted_answer]\n",
       "Index: []"
      ]
     },
     "execution_count": 51,
     "metadata": {},
     "output_type": "execute_result"
    }
   ],
   "source": [
    "minus_score_looker = looker2[looker2['answer_score'] < 0]\n",
    "minus_score_looker"
   ]
  },
  {
   "cell_type": "markdown",
   "id": "087358ce",
   "metadata": {},
   "source": [
    "Tidak ada user yang mendapat minus score pada `question_tag` 'looker'."
   ]
  },
  {
   "cell_type": "markdown",
   "id": "49ae66f9",
   "metadata": {},
   "source": [
    "Melihat jumlah `is_accepted_answer` yang 'True' dan 'False' untuk masing-masing `answerer_user_id` dengan `question_tag` 'looker'."
   ]
  },
  {
   "cell_type": "code",
   "execution_count": 52,
   "id": "1339da3d",
   "metadata": {},
   "outputs": [
    {
     "data": {
      "text/html": [
       "<div>\n",
       "<style scoped>\n",
       "    .dataframe tbody tr th:only-of-type {\n",
       "        vertical-align: middle;\n",
       "    }\n",
       "\n",
       "    .dataframe tbody tr th {\n",
       "        vertical-align: top;\n",
       "    }\n",
       "\n",
       "    .dataframe thead th {\n",
       "        text-align: right;\n",
       "    }\n",
       "</style>\n",
       "<table border=\"1\" class=\"dataframe\">\n",
       "  <thead>\n",
       "    <tr style=\"text-align: right;\">\n",
       "      <th></th>\n",
       "      <th></th>\n",
       "      <th>total</th>\n",
       "    </tr>\n",
       "    <tr>\n",
       "      <th>answerer_user_id</th>\n",
       "      <th>is_accepted_answer</th>\n",
       "      <th></th>\n",
       "    </tr>\n",
       "  </thead>\n",
       "  <tbody>\n",
       "    <tr>\n",
       "      <th>285462.0</th>\n",
       "      <th>False</th>\n",
       "      <td>1</td>\n",
       "    </tr>\n",
       "    <tr>\n",
       "      <th>1904852.0</th>\n",
       "      <th>True</th>\n",
       "      <td>1</td>\n",
       "    </tr>\n",
       "    <tr>\n",
       "      <th>3649361.0</th>\n",
       "      <th>False</th>\n",
       "      <td>1</td>\n",
       "    </tr>\n",
       "    <tr>\n",
       "      <th>4107956.0</th>\n",
       "      <th>False</th>\n",
       "      <td>1</td>\n",
       "    </tr>\n",
       "    <tr>\n",
       "      <th>5715000.0</th>\n",
       "      <th>False</th>\n",
       "      <td>1</td>\n",
       "    </tr>\n",
       "    <tr>\n",
       "      <th>8886959.0</th>\n",
       "      <th>False</th>\n",
       "      <td>1</td>\n",
       "    </tr>\n",
       "    <tr>\n",
       "      <th>12274369.0</th>\n",
       "      <th>False</th>\n",
       "      <td>1</td>\n",
       "    </tr>\n",
       "  </tbody>\n",
       "</table>\n",
       "</div>"
      ],
      "text/plain": [
       "                                     total\n",
       "answerer_user_id is_accepted_answer       \n",
       "285462.0         False                   1\n",
       "1904852.0        True                    1\n",
       "3649361.0        False                   1\n",
       "4107956.0        False                   1\n",
       "5715000.0        False                   1\n",
       "8886959.0        False                   1\n",
       "12274369.0       False                   1"
      ]
     },
     "execution_count": 52,
     "metadata": {},
     "output_type": "execute_result"
    }
   ],
   "source": [
    "looker_answer = pd.DataFrame(looker2.groupby(['answerer_user_id', 'is_accepted_answer']).size())\n",
    "looker_answer.rename(columns = {0: 'total'}, inplace = True)\n",
    "looker_answer"
   ]
  },
  {
   "cell_type": "markdown",
   "id": "e8c28e86",
   "metadata": {},
   "source": [
    "Menampilkan user dengan total `is_accepted_answer` 'True' terbanyak dan tidak pernah mendapatkan minus score."
   ]
  },
  {
   "cell_type": "code",
   "execution_count": 53,
   "id": "1f54a9a5",
   "metadata": {},
   "outputs": [
    {
     "data": {
      "text/html": [
       "<div>\n",
       "<style scoped>\n",
       "    .dataframe tbody tr th:only-of-type {\n",
       "        vertical-align: middle;\n",
       "    }\n",
       "\n",
       "    .dataframe tbody tr th {\n",
       "        vertical-align: top;\n",
       "    }\n",
       "\n",
       "    .dataframe thead th {\n",
       "        text-align: right;\n",
       "    }\n",
       "</style>\n",
       "<table border=\"1\" class=\"dataframe\">\n",
       "  <thead>\n",
       "    <tr style=\"text-align: right;\">\n",
       "      <th></th>\n",
       "      <th>answerer_user_id</th>\n",
       "      <th>total</th>\n",
       "    </tr>\n",
       "  </thead>\n",
       "  <tbody>\n",
       "    <tr>\n",
       "      <th>1</th>\n",
       "      <td>1904852.0</td>\n",
       "      <td>1</td>\n",
       "    </tr>\n",
       "  </tbody>\n",
       "</table>\n",
       "</div>"
      ],
      "text/plain": [
       "   answerer_user_id  total\n",
       "1         1904852.0      1"
      ]
     },
     "execution_count": 53,
     "metadata": {},
     "output_type": "execute_result"
    }
   ],
   "source": [
    "looker_answer.reset_index(inplace = True)\n",
    "top_looker = looker_answer[looker_answer['is_accepted_answer'] == True]\n",
    "top_looker = top_looker[['answerer_user_id', 'total']]\n",
    "top_looker"
   ]
  },
  {
   "cell_type": "markdown",
   "id": "b1948594",
   "metadata": {},
   "source": [
    "Hanya terdapat satu user yang memenuhi kriteria."
   ]
  },
  {
   "cell_type": "markdown",
   "id": "a02e2ec7",
   "metadata": {},
   "source": [
    "# Case 3: User Activity Segmentation\n",
    "Tim produk ingin memahami perbedaan kepribadian penggunanya berdasarkan jumlah pertanyaan dan jawaban yang mereka buat.\n",
    "\n",
    "Manajer Anda meminta Anda membuat segmentasi menggunakan teknik berbasis aturan. Penentuan threshold harus didasarkan pada rata-rata total postingan (pertanyaan atau jawaban) yang mereka buat per tahun.\n",
    "\n",
    "Manajer Anda juga meminta untuk membuat visualisasi segmen tersebut berdasarkan tahun. Visualisasinya harus berupa diagram batang bertumpuk di mana setiap batang mewakili satu tahun, tumpukan tersebut akan menampilkan warna segmen yang berbeda agar PM (Product Manager) dapat memahami perubahan tren berdasarkan tahun.\n",
    "\n",
    "|Question created|Answer created|Persona name|\n",
    "|-|-|-|\n",
    "|hi|hi|Inquisitive Guru|\n",
    "|hi|low|Curious Observer|\n",
    "|low|hi|Knowledgeable Supporter|\n",
    "|low|low|Silent Spectator|\n",
    "\n",
    "Penentuan threshold harus didasarkan pada rata-rata total postingan (pertanyaan atau jawaban) yang mereka buat per tahun. Threshold akan berbeda untuk pertanyaan dan jawaban."
   ]
  },
  {
   "cell_type": "markdown",
   "id": "920ebef4",
   "metadata": {},
   "source": [
    "Menyiapkan subset data yang diperlukan. Kita tidak memerlukan semua kolom. Hanya kolom tertentu yang digunakan."
   ]
  },
  {
   "cell_type": "code",
   "execution_count": 54,
   "id": "a82b45b3",
   "metadata": {},
   "outputs": [
    {
     "data": {
      "text/html": [
       "<div>\n",
       "<style scoped>\n",
       "    .dataframe tbody tr th:only-of-type {\n",
       "        vertical-align: middle;\n",
       "    }\n",
       "\n",
       "    .dataframe tbody tr th {\n",
       "        vertical-align: top;\n",
       "    }\n",
       "\n",
       "    .dataframe thead th {\n",
       "        text-align: right;\n",
       "    }\n",
       "</style>\n",
       "<table border=\"1\" class=\"dataframe\">\n",
       "  <thead>\n",
       "    <tr style=\"text-align: right;\">\n",
       "      <th></th>\n",
       "      <th>question_owner_user_id</th>\n",
       "      <th>question_id</th>\n",
       "      <th>question_created_date</th>\n",
       "    </tr>\n",
       "  </thead>\n",
       "  <tbody>\n",
       "    <tr>\n",
       "      <th>0</th>\n",
       "      <td>3769827.0</td>\n",
       "      <td>27733458</td>\n",
       "      <td>2015-01-01 18:31:22.693000 UTC</td>\n",
       "    </tr>\n",
       "    <tr>\n",
       "      <th>1</th>\n",
       "      <td>2238969.0</td>\n",
       "      <td>27734669</td>\n",
       "      <td>2015-01-01 21:04:30.070000 UTC</td>\n",
       "    </tr>\n",
       "    <tr>\n",
       "      <th>2</th>\n",
       "      <td>4413122.0</td>\n",
       "      <td>27745803</td>\n",
       "      <td>2015-01-02 17:09:50.047000 UTC</td>\n",
       "    </tr>\n",
       "    <tr>\n",
       "      <th>3</th>\n",
       "      <td>4413122.0</td>\n",
       "      <td>27745803</td>\n",
       "      <td>2015-01-02 17:09:50.047000 UTC</td>\n",
       "    </tr>\n",
       "    <tr>\n",
       "      <th>4</th>\n",
       "      <td>390973.0</td>\n",
       "      <td>27748870</td>\n",
       "      <td>2015-01-02 21:38:00.870000 UTC</td>\n",
       "    </tr>\n",
       "  </tbody>\n",
       "</table>\n",
       "</div>"
      ],
      "text/plain": [
       "   question_owner_user_id  question_id           question_created_date\n",
       "0               3769827.0     27733458  2015-01-01 18:31:22.693000 UTC\n",
       "1               2238969.0     27734669  2015-01-01 21:04:30.070000 UTC\n",
       "2               4413122.0     27745803  2015-01-02 17:09:50.047000 UTC\n",
       "3               4413122.0     27745803  2015-01-02 17:09:50.047000 UTC\n",
       "4                390973.0     27748870  2015-01-02 21:38:00.870000 UTC"
      ]
     },
     "execution_count": 54,
     "metadata": {},
     "output_type": "execute_result"
    }
   ],
   "source": [
    "question = df[['question_owner_user_id', 'question_id', 'question_created_date']]\n",
    "question.head()"
   ]
  },
  {
   "cell_type": "code",
   "execution_count": 55,
   "id": "a67fe1b6",
   "metadata": {},
   "outputs": [
    {
     "data": {
      "text/html": [
       "<div>\n",
       "<style scoped>\n",
       "    .dataframe tbody tr th:only-of-type {\n",
       "        vertical-align: middle;\n",
       "    }\n",
       "\n",
       "    .dataframe tbody tr th {\n",
       "        vertical-align: top;\n",
       "    }\n",
       "\n",
       "    .dataframe thead th {\n",
       "        text-align: right;\n",
       "    }\n",
       "</style>\n",
       "<table border=\"1\" class=\"dataframe\">\n",
       "  <thead>\n",
       "    <tr style=\"text-align: right;\">\n",
       "      <th></th>\n",
       "      <th>answerer_user_id</th>\n",
       "      <th>answer_id</th>\n",
       "      <th>answer_created_date</th>\n",
       "    </tr>\n",
       "  </thead>\n",
       "  <tbody>\n",
       "    <tr>\n",
       "      <th>0</th>\n",
       "      <td>1371484.0</td>\n",
       "      <td>27787398.0</td>\n",
       "      <td>2015-01-05 20:30:31.057000 UTC</td>\n",
       "    </tr>\n",
       "    <tr>\n",
       "      <th>1</th>\n",
       "      <td>3624307.0</td>\n",
       "      <td>27751284.0</td>\n",
       "      <td>2015-01-03 02:56:46.553000 UTC</td>\n",
       "    </tr>\n",
       "    <tr>\n",
       "      <th>2</th>\n",
       "      <td>1371484.0</td>\n",
       "      <td>27786830.0</td>\n",
       "      <td>2015-01-05 19:52:02.710000 UTC</td>\n",
       "    </tr>\n",
       "    <tr>\n",
       "      <th>3</th>\n",
       "      <td>428664.0</td>\n",
       "      <td>27880982.0</td>\n",
       "      <td>2015-01-10 20:38:15.840000 UTC</td>\n",
       "    </tr>\n",
       "    <tr>\n",
       "      <th>4</th>\n",
       "      <td>3257867.0</td>\n",
       "      <td>27785857.0</td>\n",
       "      <td>2015-01-05 18:46:51.560000 UTC</td>\n",
       "    </tr>\n",
       "  </tbody>\n",
       "</table>\n",
       "</div>"
      ],
      "text/plain": [
       "   answerer_user_id   answer_id             answer_created_date\n",
       "0         1371484.0  27787398.0  2015-01-05 20:30:31.057000 UTC\n",
       "1         3624307.0  27751284.0  2015-01-03 02:56:46.553000 UTC\n",
       "2         1371484.0  27786830.0  2015-01-05 19:52:02.710000 UTC\n",
       "3          428664.0  27880982.0  2015-01-10 20:38:15.840000 UTC\n",
       "4         3257867.0  27785857.0  2015-01-05 18:46:51.560000 UTC"
      ]
     },
     "execution_count": 55,
     "metadata": {},
     "output_type": "execute_result"
    }
   ],
   "source": [
    "answer = df[['answerer_user_id', 'answer_id', 'answer_created_date']]\n",
    "answer.head()"
   ]
  },
  {
   "cell_type": "markdown",
   "id": "6a86fee2",
   "metadata": {},
   "source": [
    "## Question"
   ]
  },
  {
   "cell_type": "markdown",
   "id": "f00713cf",
   "metadata": {},
   "source": [
    "Cek duplikat dari data `question`."
   ]
  },
  {
   "cell_type": "code",
   "execution_count": 56,
   "id": "730e3e3e",
   "metadata": {},
   "outputs": [
    {
     "data": {
      "text/plain": [
       "2198"
      ]
     },
     "execution_count": 56,
     "metadata": {},
     "output_type": "execute_result"
    }
   ],
   "source": [
    "question.duplicated().sum()"
   ]
  },
  {
   "cell_type": "markdown",
   "id": "f6c0e23e",
   "metadata": {},
   "source": [
    "Melihat data `question` yang duplikat."
   ]
  },
  {
   "cell_type": "code",
   "execution_count": 57,
   "id": "a254f019",
   "metadata": {},
   "outputs": [
    {
     "data": {
      "text/html": [
       "<div>\n",
       "<style scoped>\n",
       "    .dataframe tbody tr th:only-of-type {\n",
       "        vertical-align: middle;\n",
       "    }\n",
       "\n",
       "    .dataframe tbody tr th {\n",
       "        vertical-align: top;\n",
       "    }\n",
       "\n",
       "    .dataframe thead th {\n",
       "        text-align: right;\n",
       "    }\n",
       "</style>\n",
       "<table border=\"1\" class=\"dataframe\">\n",
       "  <thead>\n",
       "    <tr style=\"text-align: right;\">\n",
       "      <th></th>\n",
       "      <th>question_owner_user_id</th>\n",
       "      <th>question_id</th>\n",
       "      <th>question_created_date</th>\n",
       "    </tr>\n",
       "  </thead>\n",
       "  <tbody>\n",
       "    <tr>\n",
       "      <th>3</th>\n",
       "      <td>4413122.0</td>\n",
       "      <td>27745803</td>\n",
       "      <td>2015-01-02 17:09:50.047000 UTC</td>\n",
       "    </tr>\n",
       "    <tr>\n",
       "      <th>5</th>\n",
       "      <td>390973.0</td>\n",
       "      <td>27748870</td>\n",
       "      <td>2015-01-02 21:38:00.870000 UTC</td>\n",
       "    </tr>\n",
       "    <tr>\n",
       "      <th>7</th>\n",
       "      <td>367985.0</td>\n",
       "      <td>27756994</td>\n",
       "      <td>2015-01-03 16:36:14.057000 UTC</td>\n",
       "    </tr>\n",
       "    <tr>\n",
       "      <th>9</th>\n",
       "      <td>3618165.0</td>\n",
       "      <td>27784743</td>\n",
       "      <td>2015-01-05 17:32:14.280000 UTC</td>\n",
       "    </tr>\n",
       "    <tr>\n",
       "      <th>11</th>\n",
       "      <td>3273514.0</td>\n",
       "      <td>27788344</td>\n",
       "      <td>2015-01-05 21:38:32.263000 UTC</td>\n",
       "    </tr>\n",
       "    <tr>\n",
       "      <th>...</th>\n",
       "      <td>...</td>\n",
       "      <td>...</td>\n",
       "      <td>...</td>\n",
       "    </tr>\n",
       "    <tr>\n",
       "      <th>6782</th>\n",
       "      <td>8903007.0</td>\n",
       "      <td>47998766</td>\n",
       "      <td>2017-12-27 21:19:55.587000 UTC</td>\n",
       "    </tr>\n",
       "    <tr>\n",
       "      <th>6784</th>\n",
       "      <td>6737845.0</td>\n",
       "      <td>48000058</td>\n",
       "      <td>2017-12-28 00:10:13.330000 UTC</td>\n",
       "    </tr>\n",
       "    <tr>\n",
       "      <th>6790</th>\n",
       "      <td>9074806.0</td>\n",
       "      <td>48031187</td>\n",
       "      <td>2017-12-30 05:14:38.143000 UTC</td>\n",
       "    </tr>\n",
       "    <tr>\n",
       "      <th>6791</th>\n",
       "      <td>9074806.0</td>\n",
       "      <td>48031187</td>\n",
       "      <td>2017-12-30 05:14:38.143000 UTC</td>\n",
       "    </tr>\n",
       "    <tr>\n",
       "      <th>6794</th>\n",
       "      <td>8798570.0</td>\n",
       "      <td>48039288</td>\n",
       "      <td>2017-12-31 01:39:02.950000 UTC</td>\n",
       "    </tr>\n",
       "  </tbody>\n",
       "</table>\n",
       "<p>2198 rows × 3 columns</p>\n",
       "</div>"
      ],
      "text/plain": [
       "      question_owner_user_id  question_id           question_created_date\n",
       "3                  4413122.0     27745803  2015-01-02 17:09:50.047000 UTC\n",
       "5                   390973.0     27748870  2015-01-02 21:38:00.870000 UTC\n",
       "7                   367985.0     27756994  2015-01-03 16:36:14.057000 UTC\n",
       "9                  3618165.0     27784743  2015-01-05 17:32:14.280000 UTC\n",
       "11                 3273514.0     27788344  2015-01-05 21:38:32.263000 UTC\n",
       "...                      ...          ...                             ...\n",
       "6782               8903007.0     47998766  2017-12-27 21:19:55.587000 UTC\n",
       "6784               6737845.0     48000058  2017-12-28 00:10:13.330000 UTC\n",
       "6790               9074806.0     48031187  2017-12-30 05:14:38.143000 UTC\n",
       "6791               9074806.0     48031187  2017-12-30 05:14:38.143000 UTC\n",
       "6794               8798570.0     48039288  2017-12-31 01:39:02.950000 UTC\n",
       "\n",
       "[2198 rows x 3 columns]"
      ]
     },
     "execution_count": 57,
     "metadata": {},
     "output_type": "execute_result"
    }
   ],
   "source": [
    "question[question.duplicated()]"
   ]
  },
  {
   "cell_type": "markdown",
   "id": "7e49fdaf",
   "metadata": {},
   "source": [
    "Melihat salah satu `question_id` dari `question` yang duplikat."
   ]
  },
  {
   "cell_type": "code",
   "execution_count": 58,
   "id": "0303a31a",
   "metadata": {},
   "outputs": [
    {
     "data": {
      "text/html": [
       "<div>\n",
       "<style scoped>\n",
       "    .dataframe tbody tr th:only-of-type {\n",
       "        vertical-align: middle;\n",
       "    }\n",
       "\n",
       "    .dataframe tbody tr th {\n",
       "        vertical-align: top;\n",
       "    }\n",
       "\n",
       "    .dataframe thead th {\n",
       "        text-align: right;\n",
       "    }\n",
       "</style>\n",
       "<table border=\"1\" class=\"dataframe\">\n",
       "  <thead>\n",
       "    <tr style=\"text-align: right;\">\n",
       "      <th></th>\n",
       "      <th>question_owner_user_id</th>\n",
       "      <th>question_id</th>\n",
       "      <th>question_created_date</th>\n",
       "    </tr>\n",
       "  </thead>\n",
       "  <tbody>\n",
       "    <tr>\n",
       "      <th>10</th>\n",
       "      <td>3273514.0</td>\n",
       "      <td>27788344</td>\n",
       "      <td>2015-01-05 21:38:32.263000 UTC</td>\n",
       "    </tr>\n",
       "    <tr>\n",
       "      <th>11</th>\n",
       "      <td>3273514.0</td>\n",
       "      <td>27788344</td>\n",
       "      <td>2015-01-05 21:38:32.263000 UTC</td>\n",
       "    </tr>\n",
       "  </tbody>\n",
       "</table>\n",
       "</div>"
      ],
      "text/plain": [
       "    question_owner_user_id  question_id           question_created_date\n",
       "10               3273514.0     27788344  2015-01-05 21:38:32.263000 UTC\n",
       "11               3273514.0     27788344  2015-01-05 21:38:32.263000 UTC"
      ]
     },
     "execution_count": 58,
     "metadata": {},
     "output_type": "execute_result"
    }
   ],
   "source": [
    "question[question['question_id'] == 27788344]"
   ]
  },
  {
   "cell_type": "markdown",
   "id": "affe3037",
   "metadata": {},
   "source": [
    "Menghapus data yang duplikat."
   ]
  },
  {
   "cell_type": "code",
   "execution_count": 59,
   "id": "235d51b3",
   "metadata": {},
   "outputs": [],
   "source": [
    "question = question.drop_duplicates()"
   ]
  },
  {
   "cell_type": "markdown",
   "id": "347a9155",
   "metadata": {},
   "source": [
    "Mengecek null values data `question`."
   ]
  },
  {
   "cell_type": "code",
   "execution_count": 60,
   "id": "bad80651",
   "metadata": {},
   "outputs": [
    {
     "data": {
      "text/plain": [
       "question_owner_user_id    20\n",
       "question_id                0\n",
       "question_created_date      0\n",
       "dtype: int64"
      ]
     },
     "execution_count": 60,
     "metadata": {},
     "output_type": "execute_result"
    }
   ],
   "source": [
    "question.isna().sum()"
   ]
  },
  {
   "cell_type": "markdown",
   "id": "c5187d3d",
   "metadata": {},
   "source": [
    "Data yang mengandung null values pada kolom `question_owner_user_id` dari `question` perlu dihapus."
   ]
  },
  {
   "cell_type": "code",
   "execution_count": 61,
   "id": "304a9cf7",
   "metadata": {},
   "outputs": [],
   "source": [
    "question = question.dropna(subset = ['question_owner_user_id'])"
   ]
  },
  {
   "cell_type": "markdown",
   "id": "93301e90",
   "metadata": {},
   "source": [
    "Menambah kolom `year` dari kolom `question_created_date` pada data `question`."
   ]
  },
  {
   "cell_type": "code",
   "execution_count": 62,
   "id": "89b97063",
   "metadata": {},
   "outputs": [
    {
     "data": {
      "text/html": [
       "<div>\n",
       "<style scoped>\n",
       "    .dataframe tbody tr th:only-of-type {\n",
       "        vertical-align: middle;\n",
       "    }\n",
       "\n",
       "    .dataframe tbody tr th {\n",
       "        vertical-align: top;\n",
       "    }\n",
       "\n",
       "    .dataframe thead th {\n",
       "        text-align: right;\n",
       "    }\n",
       "</style>\n",
       "<table border=\"1\" class=\"dataframe\">\n",
       "  <thead>\n",
       "    <tr style=\"text-align: right;\">\n",
       "      <th></th>\n",
       "      <th>question_owner_user_id</th>\n",
       "      <th>question_id</th>\n",
       "      <th>question_created_date</th>\n",
       "      <th>year</th>\n",
       "    </tr>\n",
       "  </thead>\n",
       "  <tbody>\n",
       "    <tr>\n",
       "      <th>0</th>\n",
       "      <td>3769827.0</td>\n",
       "      <td>27733458</td>\n",
       "      <td>2015-01-01 18:31:22.693000 UTC</td>\n",
       "      <td>2015</td>\n",
       "    </tr>\n",
       "    <tr>\n",
       "      <th>1</th>\n",
       "      <td>2238969.0</td>\n",
       "      <td>27734669</td>\n",
       "      <td>2015-01-01 21:04:30.070000 UTC</td>\n",
       "      <td>2015</td>\n",
       "    </tr>\n",
       "    <tr>\n",
       "      <th>2</th>\n",
       "      <td>4413122.0</td>\n",
       "      <td>27745803</td>\n",
       "      <td>2015-01-02 17:09:50.047000 UTC</td>\n",
       "      <td>2015</td>\n",
       "    </tr>\n",
       "    <tr>\n",
       "      <th>4</th>\n",
       "      <td>390973.0</td>\n",
       "      <td>27748870</td>\n",
       "      <td>2015-01-02 21:38:00.870000 UTC</td>\n",
       "      <td>2015</td>\n",
       "    </tr>\n",
       "    <tr>\n",
       "      <th>6</th>\n",
       "      <td>367985.0</td>\n",
       "      <td>27756994</td>\n",
       "      <td>2015-01-03 16:36:14.057000 UTC</td>\n",
       "      <td>2015</td>\n",
       "    </tr>\n",
       "  </tbody>\n",
       "</table>\n",
       "</div>"
      ],
      "text/plain": [
       "   question_owner_user_id  question_id           question_created_date  year\n",
       "0               3769827.0     27733458  2015-01-01 18:31:22.693000 UTC  2015\n",
       "1               2238969.0     27734669  2015-01-01 21:04:30.070000 UTC  2015\n",
       "2               4413122.0     27745803  2015-01-02 17:09:50.047000 UTC  2015\n",
       "4                390973.0     27748870  2015-01-02 21:38:00.870000 UTC  2015\n",
       "6                367985.0     27756994  2015-01-03 16:36:14.057000 UTC  2015"
      ]
     },
     "execution_count": 62,
     "metadata": {},
     "output_type": "execute_result"
    }
   ],
   "source": [
    "question['year'] = pd.to_datetime(question['question_created_date']).dt.year\n",
    "question.head()"
   ]
  },
  {
   "cell_type": "code",
   "execution_count": 63,
   "id": "0e58db18",
   "metadata": {},
   "outputs": [
    {
     "data": {
      "text/plain": [
       "(4577, 4)"
      ]
     },
     "execution_count": 63,
     "metadata": {},
     "output_type": "execute_result"
    }
   ],
   "source": [
    "question.shape"
   ]
  },
  {
   "cell_type": "markdown",
   "id": "172fbd8c",
   "metadata": {},
   "source": [
    "Data `question` terdiri dari 4577 baris dan 4 kolom."
   ]
  },
  {
   "cell_type": "markdown",
   "id": "09a0e257",
   "metadata": {},
   "source": [
    "Cek unique values dari kolom `year` pada `question`."
   ]
  },
  {
   "cell_type": "code",
   "execution_count": 64,
   "id": "00bd64d6",
   "metadata": {},
   "outputs": [
    {
     "name": "stdout",
     "output_type": "stream",
     "text": [
      "[2015 2016 2017]\n"
     ]
    }
   ],
   "source": [
    "print(question['year'].unique())"
   ]
  },
  {
   "cell_type": "code",
   "execution_count": 65,
   "id": "8c3417bd",
   "metadata": {},
   "outputs": [
    {
     "data": {
      "text/plain": [
       "2017    2125\n",
       "2016    1532\n",
       "2015     920\n",
       "Name: year, dtype: int64"
      ]
     },
     "execution_count": 65,
     "metadata": {},
     "output_type": "execute_result"
    }
   ],
   "source": [
    "question['year'].value_counts()"
   ]
  },
  {
   "cell_type": "markdown",
   "id": "154d10fb",
   "metadata": {},
   "source": [
    "Menghitung jumlah pertanyaan yang dibuat berdasarkan user dan tahun."
   ]
  },
  {
   "cell_type": "code",
   "execution_count": 66,
   "id": "2761f72d",
   "metadata": {},
   "outputs": [
    {
     "data": {
      "text/html": [
       "<div>\n",
       "<style scoped>\n",
       "    .dataframe tbody tr th:only-of-type {\n",
       "        vertical-align: middle;\n",
       "    }\n",
       "\n",
       "    .dataframe tbody tr th {\n",
       "        vertical-align: top;\n",
       "    }\n",
       "\n",
       "    .dataframe thead th {\n",
       "        text-align: right;\n",
       "    }\n",
       "</style>\n",
       "<table border=\"1\" class=\"dataframe\">\n",
       "  <thead>\n",
       "    <tr style=\"text-align: right;\">\n",
       "      <th></th>\n",
       "      <th>year</th>\n",
       "      <th>user_id</th>\n",
       "      <th>number_of_questions</th>\n",
       "    </tr>\n",
       "  </thead>\n",
       "  <tbody>\n",
       "    <tr>\n",
       "      <th>0</th>\n",
       "      <td>2015</td>\n",
       "      <td>33453.0</td>\n",
       "      <td>1</td>\n",
       "    </tr>\n",
       "    <tr>\n",
       "      <th>1</th>\n",
       "      <td>2015</td>\n",
       "      <td>39827.0</td>\n",
       "      <td>1</td>\n",
       "    </tr>\n",
       "    <tr>\n",
       "      <th>2</th>\n",
       "      <td>2015</td>\n",
       "      <td>47222.0</td>\n",
       "      <td>1</td>\n",
       "    </tr>\n",
       "    <tr>\n",
       "      <th>3</th>\n",
       "      <td>2015</td>\n",
       "      <td>54247.0</td>\n",
       "      <td>1</td>\n",
       "    </tr>\n",
       "    <tr>\n",
       "      <th>4</th>\n",
       "      <td>2015</td>\n",
       "      <td>75066.0</td>\n",
       "      <td>1</td>\n",
       "    </tr>\n",
       "    <tr>\n",
       "      <th>...</th>\n",
       "      <td>...</td>\n",
       "      <td>...</td>\n",
       "      <td>...</td>\n",
       "    </tr>\n",
       "    <tr>\n",
       "      <th>2546</th>\n",
       "      <td>2017</td>\n",
       "      <td>9124508.0</td>\n",
       "      <td>1</td>\n",
       "    </tr>\n",
       "    <tr>\n",
       "      <th>2547</th>\n",
       "      <td>2017</td>\n",
       "      <td>9128677.0</td>\n",
       "      <td>1</td>\n",
       "    </tr>\n",
       "    <tr>\n",
       "      <th>2548</th>\n",
       "      <td>2017</td>\n",
       "      <td>9132848.0</td>\n",
       "      <td>2</td>\n",
       "    </tr>\n",
       "    <tr>\n",
       "      <th>2549</th>\n",
       "      <td>2017</td>\n",
       "      <td>9134293.0</td>\n",
       "      <td>1</td>\n",
       "    </tr>\n",
       "    <tr>\n",
       "      <th>2550</th>\n",
       "      <td>2017</td>\n",
       "      <td>9140111.0</td>\n",
       "      <td>1</td>\n",
       "    </tr>\n",
       "  </tbody>\n",
       "</table>\n",
       "<p>2551 rows × 3 columns</p>\n",
       "</div>"
      ],
      "text/plain": [
       "      year    user_id  number_of_questions\n",
       "0     2015    33453.0                    1\n",
       "1     2015    39827.0                    1\n",
       "2     2015    47222.0                    1\n",
       "3     2015    54247.0                    1\n",
       "4     2015    75066.0                    1\n",
       "...    ...        ...                  ...\n",
       "2546  2017  9124508.0                    1\n",
       "2547  2017  9128677.0                    1\n",
       "2548  2017  9132848.0                    2\n",
       "2549  2017  9134293.0                    1\n",
       "2550  2017  9140111.0                    1\n",
       "\n",
       "[2551 rows x 3 columns]"
      ]
     },
     "execution_count": 66,
     "metadata": {},
     "output_type": "execute_result"
    }
   ],
   "source": [
    "question_agg = question.groupby(['year', 'question_owner_user_id']).agg({'question_id': 'nunique'})\n",
    "question_agg.reset_index(inplace = True)\n",
    "question_agg.rename(columns = {'question_id': 'number_of_questions', 'question_owner_user_id': 'user_id'},\n",
    "                    inplace = True)\n",
    "question_agg"
   ]
  },
  {
   "cell_type": "markdown",
   "id": "aaa3edbb",
   "metadata": {},
   "source": [
    "Menghitung mean dari jumlah pertanyaan yang dibuat user berdasarkan tahun."
   ]
  },
  {
   "cell_type": "code",
   "execution_count": 67,
   "id": "19b433f3",
   "metadata": {},
   "outputs": [
    {
     "name": "stdout",
     "output_type": "stream",
     "text": [
      "average of total question in 2015: 1.8290258449304175\n",
      "average of total question in 2016: 1.8347305389221558\n",
      "average of total question in 2017: 1.7518549051937344\n"
     ]
    }
   ],
   "source": [
    "mean_question_2015 = question_agg[question_agg['year'] == 2015]['number_of_questions'].mean()\n",
    "mean_question_2016 = question_agg[question_agg['year'] == 2016]['number_of_questions'].mean()\n",
    "mean_question_2017 = question_agg[question_agg['year'] == 2017]['number_of_questions'].mean()\n",
    "print(f'average of total question in 2015: {mean_question_2015}')\n",
    "print(f'average of total question in 2016: {mean_question_2016}')\n",
    "print(f'average of total question in 2017: {mean_question_2017}')"
   ]
  },
  {
   "cell_type": "markdown",
   "id": "01394fc2",
   "metadata": {},
   "source": [
    "## Answer"
   ]
  },
  {
   "cell_type": "markdown",
   "id": "7a942f0f",
   "metadata": {},
   "source": [
    "Cek duplikat dari data `answer`."
   ]
  },
  {
   "cell_type": "code",
   "execution_count": 68,
   "id": "331be2d2",
   "metadata": {},
   "outputs": [
    {
     "data": {
      "text/plain": [
       "401"
      ]
     },
     "execution_count": 68,
     "metadata": {},
     "output_type": "execute_result"
    }
   ],
   "source": [
    "answer.duplicated().sum()"
   ]
  },
  {
   "cell_type": "markdown",
   "id": "ecbfd26a",
   "metadata": {},
   "source": [
    "Melihat data `answer` yang duplikat."
   ]
  },
  {
   "cell_type": "code",
   "execution_count": 69,
   "id": "75f37b8d",
   "metadata": {},
   "outputs": [
    {
     "data": {
      "text/html": [
       "<div>\n",
       "<style scoped>\n",
       "    .dataframe tbody tr th:only-of-type {\n",
       "        vertical-align: middle;\n",
       "    }\n",
       "\n",
       "    .dataframe tbody tr th {\n",
       "        vertical-align: top;\n",
       "    }\n",
       "\n",
       "    .dataframe thead th {\n",
       "        text-align: right;\n",
       "    }\n",
       "</style>\n",
       "<table border=\"1\" class=\"dataframe\">\n",
       "  <thead>\n",
       "    <tr style=\"text-align: right;\">\n",
       "      <th></th>\n",
       "      <th>answerer_user_id</th>\n",
       "      <th>answer_id</th>\n",
       "      <th>answer_created_date</th>\n",
       "    </tr>\n",
       "  </thead>\n",
       "  <tbody>\n",
       "    <tr>\n",
       "      <th>57</th>\n",
       "      <td>NaN</td>\n",
       "      <td>NaN</td>\n",
       "      <td>NaN</td>\n",
       "    </tr>\n",
       "    <tr>\n",
       "      <th>122</th>\n",
       "      <td>NaN</td>\n",
       "      <td>NaN</td>\n",
       "      <td>NaN</td>\n",
       "    </tr>\n",
       "    <tr>\n",
       "      <th>126</th>\n",
       "      <td>NaN</td>\n",
       "      <td>NaN</td>\n",
       "      <td>NaN</td>\n",
       "    </tr>\n",
       "    <tr>\n",
       "      <th>169</th>\n",
       "      <td>NaN</td>\n",
       "      <td>NaN</td>\n",
       "      <td>NaN</td>\n",
       "    </tr>\n",
       "    <tr>\n",
       "      <th>288</th>\n",
       "      <td>NaN</td>\n",
       "      <td>NaN</td>\n",
       "      <td>NaN</td>\n",
       "    </tr>\n",
       "    <tr>\n",
       "      <th>...</th>\n",
       "      <td>...</td>\n",
       "      <td>...</td>\n",
       "      <td>...</td>\n",
       "    </tr>\n",
       "    <tr>\n",
       "      <th>6742</th>\n",
       "      <td>NaN</td>\n",
       "      <td>NaN</td>\n",
       "      <td>NaN</td>\n",
       "    </tr>\n",
       "    <tr>\n",
       "      <th>6754</th>\n",
       "      <td>NaN</td>\n",
       "      <td>NaN</td>\n",
       "      <td>NaN</td>\n",
       "    </tr>\n",
       "    <tr>\n",
       "      <th>6755</th>\n",
       "      <td>NaN</td>\n",
       "      <td>NaN</td>\n",
       "      <td>NaN</td>\n",
       "    </tr>\n",
       "    <tr>\n",
       "      <th>6759</th>\n",
       "      <td>NaN</td>\n",
       "      <td>NaN</td>\n",
       "      <td>NaN</td>\n",
       "    </tr>\n",
       "    <tr>\n",
       "      <th>6778</th>\n",
       "      <td>NaN</td>\n",
       "      <td>NaN</td>\n",
       "      <td>NaN</td>\n",
       "    </tr>\n",
       "  </tbody>\n",
       "</table>\n",
       "<p>401 rows × 3 columns</p>\n",
       "</div>"
      ],
      "text/plain": [
       "      answerer_user_id  answer_id answer_created_date\n",
       "57                 NaN        NaN                 NaN\n",
       "122                NaN        NaN                 NaN\n",
       "126                NaN        NaN                 NaN\n",
       "169                NaN        NaN                 NaN\n",
       "288                NaN        NaN                 NaN\n",
       "...                ...        ...                 ...\n",
       "6742               NaN        NaN                 NaN\n",
       "6754               NaN        NaN                 NaN\n",
       "6755               NaN        NaN                 NaN\n",
       "6759               NaN        NaN                 NaN\n",
       "6778               NaN        NaN                 NaN\n",
       "\n",
       "[401 rows x 3 columns]"
      ]
     },
     "execution_count": 69,
     "metadata": {},
     "output_type": "execute_result"
    }
   ],
   "source": [
    "answer[answer.duplicated()]"
   ]
  },
  {
   "cell_type": "markdown",
   "id": "a4f93331",
   "metadata": {},
   "source": [
    "Sebagian besar data yang duplikat berupa null values."
   ]
  },
  {
   "cell_type": "markdown",
   "id": "b6b8c3e0",
   "metadata": {},
   "source": [
    "Menghapus data yang duplikat."
   ]
  },
  {
   "cell_type": "code",
   "execution_count": 70,
   "id": "ac03b752",
   "metadata": {},
   "outputs": [],
   "source": [
    "answer = answer.drop_duplicates()"
   ]
  },
  {
   "cell_type": "markdown",
   "id": "b962236b",
   "metadata": {},
   "source": [
    "Mengecek null values data `answer`."
   ]
  },
  {
   "cell_type": "code",
   "execution_count": 71,
   "id": "b30213fe",
   "metadata": {},
   "outputs": [
    {
     "data": {
      "text/plain": [
       "answerer_user_id       9\n",
       "answer_id              1\n",
       "answer_created_date    1\n",
       "dtype: int64"
      ]
     },
     "execution_count": 71,
     "metadata": {},
     "output_type": "execute_result"
    }
   ],
   "source": [
    "answer.isna().sum()"
   ]
  },
  {
   "cell_type": "markdown",
   "id": "a87d8ce2",
   "metadata": {},
   "source": [
    "Melihat data `answer` yang mempunyai null values."
   ]
  },
  {
   "cell_type": "code",
   "execution_count": 72,
   "id": "1eddde37",
   "metadata": {},
   "outputs": [
    {
     "data": {
      "text/html": [
       "<div>\n",
       "<style scoped>\n",
       "    .dataframe tbody tr th:only-of-type {\n",
       "        vertical-align: middle;\n",
       "    }\n",
       "\n",
       "    .dataframe tbody tr th {\n",
       "        vertical-align: top;\n",
       "    }\n",
       "\n",
       "    .dataframe thead th {\n",
       "        text-align: right;\n",
       "    }\n",
       "</style>\n",
       "<table border=\"1\" class=\"dataframe\">\n",
       "  <thead>\n",
       "    <tr style=\"text-align: right;\">\n",
       "      <th></th>\n",
       "      <th>answerer_user_id</th>\n",
       "      <th>answer_id</th>\n",
       "      <th>answer_created_date</th>\n",
       "    </tr>\n",
       "  </thead>\n",
       "  <tbody>\n",
       "    <tr>\n",
       "      <th>20</th>\n",
       "      <td>NaN</td>\n",
       "      <td>56973201.0</td>\n",
       "      <td>2019-07-10 14:43:04.543000 UTC</td>\n",
       "    </tr>\n",
       "    <tr>\n",
       "      <th>50</th>\n",
       "      <td>NaN</td>\n",
       "      <td>NaN</td>\n",
       "      <td>NaN</td>\n",
       "    </tr>\n",
       "    <tr>\n",
       "      <th>802</th>\n",
       "      <td>NaN</td>\n",
       "      <td>31793685.0</td>\n",
       "      <td>2015-08-03 17:54:17.187000 UTC</td>\n",
       "    </tr>\n",
       "    <tr>\n",
       "      <th>1160</th>\n",
       "      <td>NaN</td>\n",
       "      <td>57226034.0</td>\n",
       "      <td>2019-07-26 19:29:28.840000 UTC</td>\n",
       "    </tr>\n",
       "    <tr>\n",
       "      <th>1501</th>\n",
       "      <td>NaN</td>\n",
       "      <td>34807830.0</td>\n",
       "      <td>2016-01-15 09:20:49.767000 UTC</td>\n",
       "    </tr>\n",
       "    <tr>\n",
       "      <th>1904</th>\n",
       "      <td>NaN</td>\n",
       "      <td>36233018.0</td>\n",
       "      <td>2016-03-26 08:03:56.947000 UTC</td>\n",
       "    </tr>\n",
       "    <tr>\n",
       "      <th>2560</th>\n",
       "      <td>NaN</td>\n",
       "      <td>38376236.0</td>\n",
       "      <td>2016-07-14 13:57:53.913000 UTC</td>\n",
       "    </tr>\n",
       "    <tr>\n",
       "      <th>2603</th>\n",
       "      <td>NaN</td>\n",
       "      <td>38498139.0</td>\n",
       "      <td>2016-07-21 07:49:24.850000 UTC</td>\n",
       "    </tr>\n",
       "    <tr>\n",
       "      <th>3191</th>\n",
       "      <td>NaN</td>\n",
       "      <td>54284633.0</td>\n",
       "      <td>2019-01-21 06:40:01.707000 UTC</td>\n",
       "    </tr>\n",
       "  </tbody>\n",
       "</table>\n",
       "</div>"
      ],
      "text/plain": [
       "      answerer_user_id   answer_id             answer_created_date\n",
       "20                 NaN  56973201.0  2019-07-10 14:43:04.543000 UTC\n",
       "50                 NaN         NaN                             NaN\n",
       "802                NaN  31793685.0  2015-08-03 17:54:17.187000 UTC\n",
       "1160               NaN  57226034.0  2019-07-26 19:29:28.840000 UTC\n",
       "1501               NaN  34807830.0  2016-01-15 09:20:49.767000 UTC\n",
       "1904               NaN  36233018.0  2016-03-26 08:03:56.947000 UTC\n",
       "2560               NaN  38376236.0  2016-07-14 13:57:53.913000 UTC\n",
       "2603               NaN  38498139.0  2016-07-21 07:49:24.850000 UTC\n",
       "3191               NaN  54284633.0  2019-01-21 06:40:01.707000 UTC"
      ]
     },
     "execution_count": 72,
     "metadata": {},
     "output_type": "execute_result"
    }
   ],
   "source": [
    "answer[answer.isnull().any(axis = 1)]"
   ]
  },
  {
   "cell_type": "markdown",
   "id": "1898c986",
   "metadata": {},
   "source": [
    "Data yang mengandung null values pada kolom `answerer_user_id` dari `answer` perlu dihapus."
   ]
  },
  {
   "cell_type": "code",
   "execution_count": 73,
   "id": "51b1250b",
   "metadata": {},
   "outputs": [],
   "source": [
    "answer = answer.dropna(subset = ['answerer_user_id'])"
   ]
  },
  {
   "cell_type": "markdown",
   "id": "12648ca4",
   "metadata": {},
   "source": [
    "Menambah kolom `year` dari kolom `answer_created_date` pada data `answer`."
   ]
  },
  {
   "cell_type": "code",
   "execution_count": 74,
   "id": "1c3cbb81",
   "metadata": {},
   "outputs": [
    {
     "data": {
      "text/html": [
       "<div>\n",
       "<style scoped>\n",
       "    .dataframe tbody tr th:only-of-type {\n",
       "        vertical-align: middle;\n",
       "    }\n",
       "\n",
       "    .dataframe tbody tr th {\n",
       "        vertical-align: top;\n",
       "    }\n",
       "\n",
       "    .dataframe thead th {\n",
       "        text-align: right;\n",
       "    }\n",
       "</style>\n",
       "<table border=\"1\" class=\"dataframe\">\n",
       "  <thead>\n",
       "    <tr style=\"text-align: right;\">\n",
       "      <th></th>\n",
       "      <th>answerer_user_id</th>\n",
       "      <th>answer_id</th>\n",
       "      <th>answer_created_date</th>\n",
       "      <th>year</th>\n",
       "    </tr>\n",
       "  </thead>\n",
       "  <tbody>\n",
       "    <tr>\n",
       "      <th>0</th>\n",
       "      <td>1371484.0</td>\n",
       "      <td>27787398.0</td>\n",
       "      <td>2015-01-05 20:30:31.057000 UTC</td>\n",
       "      <td>2015</td>\n",
       "    </tr>\n",
       "    <tr>\n",
       "      <th>1</th>\n",
       "      <td>3624307.0</td>\n",
       "      <td>27751284.0</td>\n",
       "      <td>2015-01-03 02:56:46.553000 UTC</td>\n",
       "      <td>2015</td>\n",
       "    </tr>\n",
       "    <tr>\n",
       "      <th>2</th>\n",
       "      <td>1371484.0</td>\n",
       "      <td>27786830.0</td>\n",
       "      <td>2015-01-05 19:52:02.710000 UTC</td>\n",
       "      <td>2015</td>\n",
       "    </tr>\n",
       "    <tr>\n",
       "      <th>3</th>\n",
       "      <td>428664.0</td>\n",
       "      <td>27880982.0</td>\n",
       "      <td>2015-01-10 20:38:15.840000 UTC</td>\n",
       "      <td>2015</td>\n",
       "    </tr>\n",
       "    <tr>\n",
       "      <th>4</th>\n",
       "      <td>3257867.0</td>\n",
       "      <td>27785857.0</td>\n",
       "      <td>2015-01-05 18:46:51.560000 UTC</td>\n",
       "      <td>2015</td>\n",
       "    </tr>\n",
       "  </tbody>\n",
       "</table>\n",
       "</div>"
      ],
      "text/plain": [
       "   answerer_user_id   answer_id             answer_created_date  year\n",
       "0         1371484.0  27787398.0  2015-01-05 20:30:31.057000 UTC  2015\n",
       "1         3624307.0  27751284.0  2015-01-03 02:56:46.553000 UTC  2015\n",
       "2         1371484.0  27786830.0  2015-01-05 19:52:02.710000 UTC  2015\n",
       "3          428664.0  27880982.0  2015-01-10 20:38:15.840000 UTC  2015\n",
       "4         3257867.0  27785857.0  2015-01-05 18:46:51.560000 UTC  2015"
      ]
     },
     "execution_count": 74,
     "metadata": {},
     "output_type": "execute_result"
    }
   ],
   "source": [
    "answer['year'] = pd.to_datetime(answer['answer_created_date']).dt.year\n",
    "answer.head()"
   ]
  },
  {
   "cell_type": "code",
   "execution_count": 75,
   "id": "04d90c96",
   "metadata": {},
   "outputs": [
    {
     "data": {
      "text/plain": [
       "(6385, 4)"
      ]
     },
     "execution_count": 75,
     "metadata": {},
     "output_type": "execute_result"
    }
   ],
   "source": [
    "answer.shape"
   ]
  },
  {
   "cell_type": "markdown",
   "id": "2b0d96c9",
   "metadata": {},
   "source": [
    "Data `answer` terdiri dari 6385 baris dan 4 kolom."
   ]
  },
  {
   "cell_type": "markdown",
   "id": "4c86332b",
   "metadata": {},
   "source": [
    "Cek unique values dari kolom `year` pada `answer`."
   ]
  },
  {
   "cell_type": "code",
   "execution_count": 76,
   "id": "8d7bc0c5",
   "metadata": {},
   "outputs": [
    {
     "name": "stdout",
     "output_type": "stream",
     "text": [
      "[2015 2019 2016 2021 2018 2022 2020 2017]\n"
     ]
    }
   ],
   "source": [
    "print(answer['year'].unique())"
   ]
  },
  {
   "cell_type": "code",
   "execution_count": 77,
   "id": "c9b76590",
   "metadata": {},
   "outputs": [
    {
     "data": {
      "text/plain": [
       "2017    2526\n",
       "2016    1960\n",
       "2015    1106\n",
       "2018     237\n",
       "2019     197\n",
       "2020     158\n",
       "2021     136\n",
       "2022      65\n",
       "Name: year, dtype: int64"
      ]
     },
     "execution_count": 77,
     "metadata": {},
     "output_type": "execute_result"
    }
   ],
   "source": [
    "answer['year'].value_counts()"
   ]
  },
  {
   "cell_type": "markdown",
   "id": "a9a9569d",
   "metadata": {},
   "source": [
    "Menghitung jumlah jawaban yang dibuat berdasarkan user dan tahun."
   ]
  },
  {
   "cell_type": "code",
   "execution_count": 78,
   "id": "3ba5516e",
   "metadata": {},
   "outputs": [
    {
     "data": {
      "text/html": [
       "<div>\n",
       "<style scoped>\n",
       "    .dataframe tbody tr th:only-of-type {\n",
       "        vertical-align: middle;\n",
       "    }\n",
       "\n",
       "    .dataframe tbody tr th {\n",
       "        vertical-align: top;\n",
       "    }\n",
       "\n",
       "    .dataframe thead th {\n",
       "        text-align: right;\n",
       "    }\n",
       "</style>\n",
       "<table border=\"1\" class=\"dataframe\">\n",
       "  <thead>\n",
       "    <tr style=\"text-align: right;\">\n",
       "      <th></th>\n",
       "      <th>year</th>\n",
       "      <th>user_id</th>\n",
       "      <th>number_of_answers</th>\n",
       "    </tr>\n",
       "  </thead>\n",
       "  <tbody>\n",
       "    <tr>\n",
       "      <th>0</th>\n",
       "      <td>2015</td>\n",
       "      <td>4279.0</td>\n",
       "      <td>1</td>\n",
       "    </tr>\n",
       "    <tr>\n",
       "      <th>1</th>\n",
       "      <td>2015</td>\n",
       "      <td>7587.0</td>\n",
       "      <td>1</td>\n",
       "    </tr>\n",
       "    <tr>\n",
       "      <th>2</th>\n",
       "      <td>2015</td>\n",
       "      <td>12030.0</td>\n",
       "      <td>1</td>\n",
       "    </tr>\n",
       "    <tr>\n",
       "      <th>3</th>\n",
       "      <td>2015</td>\n",
       "      <td>18601.0</td>\n",
       "      <td>1</td>\n",
       "    </tr>\n",
       "    <tr>\n",
       "      <th>4</th>\n",
       "      <td>2015</td>\n",
       "      <td>19880.0</td>\n",
       "      <td>4</td>\n",
       "    </tr>\n",
       "    <tr>\n",
       "      <th>...</th>\n",
       "      <td>...</td>\n",
       "      <td>...</td>\n",
       "      <td>...</td>\n",
       "    </tr>\n",
       "    <tr>\n",
       "      <th>2084</th>\n",
       "      <td>2022</td>\n",
       "      <td>19206739.0</td>\n",
       "      <td>1</td>\n",
       "    </tr>\n",
       "    <tr>\n",
       "      <th>2085</th>\n",
       "      <td>2022</td>\n",
       "      <td>19259511.0</td>\n",
       "      <td>1</td>\n",
       "    </tr>\n",
       "    <tr>\n",
       "      <th>2086</th>\n",
       "      <td>2022</td>\n",
       "      <td>19355112.0</td>\n",
       "      <td>1</td>\n",
       "    </tr>\n",
       "    <tr>\n",
       "      <th>2087</th>\n",
       "      <td>2022</td>\n",
       "      <td>19534293.0</td>\n",
       "      <td>1</td>\n",
       "    </tr>\n",
       "    <tr>\n",
       "      <th>2088</th>\n",
       "      <td>2022</td>\n",
       "      <td>19542794.0</td>\n",
       "      <td>1</td>\n",
       "    </tr>\n",
       "  </tbody>\n",
       "</table>\n",
       "<p>2089 rows × 3 columns</p>\n",
       "</div>"
      ],
      "text/plain": [
       "      year     user_id  number_of_answers\n",
       "0     2015      4279.0                  1\n",
       "1     2015      7587.0                  1\n",
       "2     2015     12030.0                  1\n",
       "3     2015     18601.0                  1\n",
       "4     2015     19880.0                  4\n",
       "...    ...         ...                ...\n",
       "2084  2022  19206739.0                  1\n",
       "2085  2022  19259511.0                  1\n",
       "2086  2022  19355112.0                  1\n",
       "2087  2022  19534293.0                  1\n",
       "2088  2022  19542794.0                  1\n",
       "\n",
       "[2089 rows x 3 columns]"
      ]
     },
     "execution_count": 78,
     "metadata": {},
     "output_type": "execute_result"
    }
   ],
   "source": [
    "answer_agg = answer.groupby(['year', 'answerer_user_id']).agg({'answer_id': 'nunique'})\n",
    "answer_agg.reset_index(inplace = True)\n",
    "answer_agg.rename(columns = {'answer_id': 'number_of_answers', 'answerer_user_id': 'user_id'}, inplace = True)\n",
    "answer_agg"
   ]
  },
  {
   "cell_type": "markdown",
   "id": "90a0acb4",
   "metadata": {},
   "source": [
    "Menghitung mean dari jumlah jawaban yang dibuat user berdasarkan tahun."
   ]
  },
  {
   "cell_type": "code",
   "execution_count": 79,
   "id": "c781e3b0",
   "metadata": {},
   "outputs": [
    {
     "name": "stdout",
     "output_type": "stream",
     "text": [
      "average of total answer in 2015: 4.0218181818181815\n",
      "average of total answer in 2016: 4.224137931034483\n",
      "average of total answer in 2017: 3.874233128834356\n",
      "average of total answer in 2018: 1.1560975609756097\n",
      "average of total answer in 2019: 1.1588235294117648\n",
      "average of total answer in 2020: 1.1366906474820144\n",
      "average of total answer in 2021: 1.096774193548387\n",
      "average of total answer in 2022: 1.0833333333333333\n"
     ]
    }
   ],
   "source": [
    "mean_answer_2015 = answer_agg[answer_agg['year'] == 2015]['number_of_answers'].mean()\n",
    "mean_answer_2016 = answer_agg[answer_agg['year'] == 2016]['number_of_answers'].mean()\n",
    "mean_answer_2017 = answer_agg[answer_agg['year'] == 2017]['number_of_answers'].mean()\n",
    "mean_answer_2018 = answer_agg[answer_agg['year'] == 2018]['number_of_answers'].mean()\n",
    "mean_answer_2019 = answer_agg[answer_agg['year'] == 2019]['number_of_answers'].mean()\n",
    "mean_answer_2020 = answer_agg[answer_agg['year'] == 2020]['number_of_answers'].mean()\n",
    "mean_answer_2021 = answer_agg[answer_agg['year'] == 2021]['number_of_answers'].mean()\n",
    "mean_answer_2022 = answer_agg[answer_agg['year'] == 2022]['number_of_answers'].mean()\n",
    "print(f'average of total answer in 2015: {mean_answer_2015}')\n",
    "print(f'average of total answer in 2016: {mean_answer_2016}')\n",
    "print(f'average of total answer in 2017: {mean_answer_2017}')\n",
    "print(f'average of total answer in 2018: {mean_answer_2018}')\n",
    "print(f'average of total answer in 2019: {mean_answer_2019}')\n",
    "print(f'average of total answer in 2020: {mean_answer_2020}')\n",
    "print(f'average of total answer in 2021: {mean_answer_2021}')\n",
    "print(f'average of total answer in 2022: {mean_answer_2022}')"
   ]
  },
  {
   "cell_type": "markdown",
   "id": "f18294bd",
   "metadata": {},
   "source": [
    "## Segmentation"
   ]
  },
  {
   "cell_type": "markdown",
   "id": "f35ae18b",
   "metadata": {},
   "source": [
    "Menggabungkan data `question` dengan data `answer` berdasarkan `year` dan `user_id`."
   ]
  },
  {
   "cell_type": "code",
   "execution_count": 80,
   "id": "a53a534d",
   "metadata": {},
   "outputs": [
    {
     "data": {
      "text/html": [
       "<div>\n",
       "<style scoped>\n",
       "    .dataframe tbody tr th:only-of-type {\n",
       "        vertical-align: middle;\n",
       "    }\n",
       "\n",
       "    .dataframe tbody tr th {\n",
       "        vertical-align: top;\n",
       "    }\n",
       "\n",
       "    .dataframe thead th {\n",
       "        text-align: right;\n",
       "    }\n",
       "</style>\n",
       "<table border=\"1\" class=\"dataframe\">\n",
       "  <thead>\n",
       "    <tr style=\"text-align: right;\">\n",
       "      <th></th>\n",
       "      <th>year</th>\n",
       "      <th>user_id</th>\n",
       "      <th>number_of_questions</th>\n",
       "      <th>number_of_answers</th>\n",
       "    </tr>\n",
       "  </thead>\n",
       "  <tbody>\n",
       "    <tr>\n",
       "      <th>0</th>\n",
       "      <td>2015</td>\n",
       "      <td>33453.0</td>\n",
       "      <td>1.0</td>\n",
       "      <td>NaN</td>\n",
       "    </tr>\n",
       "    <tr>\n",
       "      <th>1</th>\n",
       "      <td>2015</td>\n",
       "      <td>39827.0</td>\n",
       "      <td>1.0</td>\n",
       "      <td>NaN</td>\n",
       "    </tr>\n",
       "    <tr>\n",
       "      <th>2</th>\n",
       "      <td>2015</td>\n",
       "      <td>47222.0</td>\n",
       "      <td>1.0</td>\n",
       "      <td>NaN</td>\n",
       "    </tr>\n",
       "    <tr>\n",
       "      <th>3</th>\n",
       "      <td>2015</td>\n",
       "      <td>54247.0</td>\n",
       "      <td>1.0</td>\n",
       "      <td>NaN</td>\n",
       "    </tr>\n",
       "    <tr>\n",
       "      <th>4</th>\n",
       "      <td>2015</td>\n",
       "      <td>75066.0</td>\n",
       "      <td>1.0</td>\n",
       "      <td>NaN</td>\n",
       "    </tr>\n",
       "    <tr>\n",
       "      <th>...</th>\n",
       "      <td>...</td>\n",
       "      <td>...</td>\n",
       "      <td>...</td>\n",
       "      <td>...</td>\n",
       "    </tr>\n",
       "    <tr>\n",
       "      <th>4177</th>\n",
       "      <td>2022</td>\n",
       "      <td>19206739.0</td>\n",
       "      <td>NaN</td>\n",
       "      <td>1.0</td>\n",
       "    </tr>\n",
       "    <tr>\n",
       "      <th>4178</th>\n",
       "      <td>2022</td>\n",
       "      <td>19259511.0</td>\n",
       "      <td>NaN</td>\n",
       "      <td>1.0</td>\n",
       "    </tr>\n",
       "    <tr>\n",
       "      <th>4179</th>\n",
       "      <td>2022</td>\n",
       "      <td>19355112.0</td>\n",
       "      <td>NaN</td>\n",
       "      <td>1.0</td>\n",
       "    </tr>\n",
       "    <tr>\n",
       "      <th>4180</th>\n",
       "      <td>2022</td>\n",
       "      <td>19534293.0</td>\n",
       "      <td>NaN</td>\n",
       "      <td>1.0</td>\n",
       "    </tr>\n",
       "    <tr>\n",
       "      <th>4181</th>\n",
       "      <td>2022</td>\n",
       "      <td>19542794.0</td>\n",
       "      <td>NaN</td>\n",
       "      <td>1.0</td>\n",
       "    </tr>\n",
       "  </tbody>\n",
       "</table>\n",
       "<p>4182 rows × 4 columns</p>\n",
       "</div>"
      ],
      "text/plain": [
       "      year     user_id  number_of_questions  number_of_answers\n",
       "0     2015     33453.0                  1.0                NaN\n",
       "1     2015     39827.0                  1.0                NaN\n",
       "2     2015     47222.0                  1.0                NaN\n",
       "3     2015     54247.0                  1.0                NaN\n",
       "4     2015     75066.0                  1.0                NaN\n",
       "...    ...         ...                  ...                ...\n",
       "4177  2022  19206739.0                  NaN                1.0\n",
       "4178  2022  19259511.0                  NaN                1.0\n",
       "4179  2022  19355112.0                  NaN                1.0\n",
       "4180  2022  19534293.0                  NaN                1.0\n",
       "4181  2022  19542794.0                  NaN                1.0\n",
       "\n",
       "[4182 rows x 4 columns]"
      ]
     },
     "execution_count": 80,
     "metadata": {},
     "output_type": "execute_result"
    }
   ],
   "source": [
    "segmentation = question_agg.merge(answer_agg, how = 'outer', left_on = ['year', 'user_id'],\n",
    "                                  right_on = ['year', 'user_id'])\n",
    "segmentation"
   ]
  },
  {
   "cell_type": "markdown",
   "id": "79485bc9",
   "metadata": {},
   "source": [
    "Cek null values pada `segmentation`."
   ]
  },
  {
   "cell_type": "code",
   "execution_count": 81,
   "id": "fa72c212",
   "metadata": {},
   "outputs": [
    {
     "data": {
      "text/plain": [
       "year                      0\n",
       "user_id                   0\n",
       "number_of_questions    1631\n",
       "number_of_answers      2093\n",
       "dtype: int64"
      ]
     },
     "execution_count": 81,
     "metadata": {},
     "output_type": "execute_result"
    }
   ],
   "source": [
    "segmentation.isna().sum()"
   ]
  },
  {
   "cell_type": "markdown",
   "id": "debb8e73",
   "metadata": {},
   "source": [
    "Mengisi null values dengan 0 pada `segmentation`."
   ]
  },
  {
   "cell_type": "code",
   "execution_count": 82,
   "id": "12c1d95d",
   "metadata": {},
   "outputs": [],
   "source": [
    "segmentation = segmentation.fillna(0)"
   ]
  },
  {
   "cell_type": "markdown",
   "id": "e98cc016",
   "metadata": {},
   "source": [
    "Membuat kolom `persona_name` berdasarkan average of total question dan average of total answer setiap tahun.\n",
    "\n",
    "|Year|Persona name|Threshold for question|Threshold for answer|\n",
    "|-|-|-|-|\n",
    "|2015|Silent Spectator|<2|<5|\n",
    "| |Knowledgeable Supporter|<2|>=5|\n",
    "| |Curious Observer|>=2|<5|\n",
    "| |Inquisitive Guru|>=2|>=5|\n",
    "|2016|Silent Spectator|<2|<5|\n",
    "| |Knowledgeable Supporter|<2|>=5|\n",
    "| |Curious Observer|>=2|<5|\n",
    "| |Inquisitive Guru|>=2|>=5|\n",
    "|2017|Silent Spectator|<2|<4|\n",
    "| |Knowledgeable Supporter|<2|>=4|\n",
    "| |Curious Observer|>=2|<4|\n",
    "| |Inquisitive Guru|>=2|>=4|\n",
    "|2018|Silent Spectator|=0|<2|\n",
    "| |Knowledgeable Supporter|=0|>=2|\n",
    "| |Curious Observer|>0|<2|\n",
    "| |Inquisitive Guru|>0|>=2|\n",
    "|2019|Silent Spectator|=0|<2|\n",
    "| |Knowledgeable Supporter|=0|>=2|\n",
    "| |Curious Observer|>0|<2|\n",
    "| |Inquisitive Guru|>0|>=2|\n",
    "|2020|Silent Spectator|=0|<2|\n",
    "| |Knowledgeable Supporter|=0|>=2|\n",
    "| |Curious Observer|>0|<2|\n",
    "| |Inquisitive Guru|>0|>=2|\n",
    "|2021|Silent Spectator|=0|<2|\n",
    "| |Knowledgeable Supporter|=0|>=2|\n",
    "| |Curious Observer|>0|<2|\n",
    "| |Inquisitive Guru|>0|>=2|\n",
    "|2022|Silent Spectator|=0|<2|\n",
    "| |Knowledgeable Supporter|=0|>=2|\n",
    "| |Curious Observer|>0|<2|\n",
    "| |Inquisitive Guru|>0|>=2|"
   ]
  },
  {
   "cell_type": "code",
   "execution_count": 83,
   "id": "fe4ac65a",
   "metadata": {},
   "outputs": [
    {
     "data": {
      "text/html": [
       "<div>\n",
       "<style scoped>\n",
       "    .dataframe tbody tr th:only-of-type {\n",
       "        vertical-align: middle;\n",
       "    }\n",
       "\n",
       "    .dataframe tbody tr th {\n",
       "        vertical-align: top;\n",
       "    }\n",
       "\n",
       "    .dataframe thead th {\n",
       "        text-align: right;\n",
       "    }\n",
       "</style>\n",
       "<table border=\"1\" class=\"dataframe\">\n",
       "  <thead>\n",
       "    <tr style=\"text-align: right;\">\n",
       "      <th></th>\n",
       "      <th>year</th>\n",
       "      <th>user_id</th>\n",
       "      <th>number_of_questions</th>\n",
       "      <th>number_of_answers</th>\n",
       "      <th>persona_name</th>\n",
       "    </tr>\n",
       "  </thead>\n",
       "  <tbody>\n",
       "    <tr>\n",
       "      <th>0</th>\n",
       "      <td>2015</td>\n",
       "      <td>33453.0</td>\n",
       "      <td>1.0</td>\n",
       "      <td>0.0</td>\n",
       "      <td>Silent Spectator</td>\n",
       "    </tr>\n",
       "    <tr>\n",
       "      <th>1</th>\n",
       "      <td>2015</td>\n",
       "      <td>39827.0</td>\n",
       "      <td>1.0</td>\n",
       "      <td>0.0</td>\n",
       "      <td>Silent Spectator</td>\n",
       "    </tr>\n",
       "    <tr>\n",
       "      <th>2</th>\n",
       "      <td>2015</td>\n",
       "      <td>47222.0</td>\n",
       "      <td>1.0</td>\n",
       "      <td>0.0</td>\n",
       "      <td>Silent Spectator</td>\n",
       "    </tr>\n",
       "    <tr>\n",
       "      <th>3</th>\n",
       "      <td>2015</td>\n",
       "      <td>54247.0</td>\n",
       "      <td>1.0</td>\n",
       "      <td>0.0</td>\n",
       "      <td>Silent Spectator</td>\n",
       "    </tr>\n",
       "    <tr>\n",
       "      <th>4</th>\n",
       "      <td>2015</td>\n",
       "      <td>75066.0</td>\n",
       "      <td>1.0</td>\n",
       "      <td>0.0</td>\n",
       "      <td>Silent Spectator</td>\n",
       "    </tr>\n",
       "  </tbody>\n",
       "</table>\n",
       "</div>"
      ],
      "text/plain": [
       "   year  user_id  number_of_questions  number_of_answers      persona_name\n",
       "0  2015  33453.0                  1.0                0.0  Silent Spectator\n",
       "1  2015  39827.0                  1.0                0.0  Silent Spectator\n",
       "2  2015  47222.0                  1.0                0.0  Silent Spectator\n",
       "3  2015  54247.0                  1.0                0.0  Silent Spectator\n",
       "4  2015  75066.0                  1.0                0.0  Silent Spectator"
      ]
     },
     "execution_count": 83,
     "metadata": {},
     "output_type": "execute_result"
    }
   ],
   "source": [
    "segmentation.loc[((segmentation['year'] < 2017) & (segmentation['number_of_questions'] < 2) &\n",
    "                  (segmentation['number_of_answers'] < 5)), 'persona_name'] = 'Silent Spectator'\n",
    "segmentation.loc[((segmentation['year'] < 2017) &(segmentation['number_of_questions'] < 2) &\n",
    "                  (segmentation['number_of_answers'] >= 5)), 'persona_name'] = 'Knowledgeable Supporter'\n",
    "segmentation.loc[((segmentation['year'] < 2017) & (segmentation['number_of_questions'] >= 2) &\n",
    "                  (segmentation['number_of_answers'] < 5)), 'persona_name'] = 'Curious Observer'\n",
    "segmentation.loc[((segmentation['year'] < 2017) & (segmentation['number_of_questions'] >= 2) &\n",
    "                  (segmentation['number_of_answers'] >= 5)), 'persona_name'] = 'Inquisitive Guru'\n",
    "\n",
    "segmentation.loc[((segmentation['year'] == 2017) & (segmentation['number_of_questions'] < 2) &\n",
    "                  (segmentation['number_of_answers'] < 4)), 'persona_name'] = 'Silent Spectator'\n",
    "segmentation.loc[((segmentation['year'] == 2017) & (segmentation['number_of_questions'] < 2) &\n",
    "                  (segmentation['number_of_answers'] >= 4)), 'persona_name'] = 'Knowledgeable Supporter'\n",
    "segmentation.loc[((segmentation['year'] == 2017) & (segmentation['number_of_questions'] >= 2) &\n",
    "                  (segmentation['number_of_answers'] < 4)), 'persona_name'] = 'Curious Observer'\n",
    "segmentation.loc[((segmentation['year'] == 2017) & (segmentation['number_of_questions'] >= 2) &\n",
    "                  (segmentation['number_of_answers'] >= 4)), 'persona_name'] = 'Inquisitive Guru'\n",
    "\n",
    "segmentation.loc[((segmentation['year'] > 2017) & (segmentation['number_of_questions'] == 0) &\n",
    "                  (segmentation['number_of_answers'] < 2)), 'persona_name'] = 'Silent Spectator'\n",
    "segmentation.loc[((segmentation['year'] > 2017) & (segmentation['number_of_questions'] == 0) &\n",
    "                  (segmentation['number_of_answers'] >= 2)), 'persona_name'] = 'Knowledgeable Supporter'\n",
    "segmentation.loc[((segmentation['year'] > 2017) & (segmentation['number_of_questions'] > 0) &\n",
    "                  (segmentation['number_of_answers'] < 2)), 'persona_name'] = 'Curious Observer'\n",
    "segmentation.loc[((segmentation['year'] > 2017) & (segmentation['number_of_questions'] > 0) &\n",
    "                  (segmentation['number_of_answers'] >= 2)), 'persona_name'] = 'Inquisitive Guru'\n",
    "\n",
    "segmentation.head()"
   ]
  },
  {
   "cell_type": "markdown",
   "id": "5f5f8247",
   "metadata": {},
   "source": [
    "Melihat jumlah masing-masing value dari `persona_name` pada `segmentation`."
   ]
  },
  {
   "cell_type": "code",
   "execution_count": 84,
   "id": "43ba4f64",
   "metadata": {},
   "outputs": [
    {
     "data": {
      "text/plain": [
       "Silent Spectator           3281\n",
       "Curious Observer            727\n",
       "Knowledgeable Supporter     138\n",
       "Inquisitive Guru             36\n",
       "Name: persona_name, dtype: int64"
      ]
     },
     "execution_count": 84,
     "metadata": {},
     "output_type": "execute_result"
    }
   ],
   "source": [
    "segmentation['persona_name'].value_counts()"
   ]
  },
  {
   "cell_type": "markdown",
   "id": "9d9a2d3e",
   "metadata": {},
   "source": [
    "Melihat jumlah masing-masing value dari `persona_name` berdasarkan `year` pada `segmentation`."
   ]
  },
  {
   "cell_type": "code",
   "execution_count": 85,
   "id": "8aac249c",
   "metadata": {
    "scrolled": true
   },
   "outputs": [
    {
     "data": {
      "text/html": [
       "<div>\n",
       "<style scoped>\n",
       "    .dataframe tbody tr th:only-of-type {\n",
       "        vertical-align: middle;\n",
       "    }\n",
       "\n",
       "    .dataframe tbody tr th {\n",
       "        vertical-align: top;\n",
       "    }\n",
       "\n",
       "    .dataframe thead th {\n",
       "        text-align: right;\n",
       "    }\n",
       "</style>\n",
       "<table border=\"1\" class=\"dataframe\">\n",
       "  <thead>\n",
       "    <tr style=\"text-align: right;\">\n",
       "      <th>persona_name</th>\n",
       "      <th>Curious Observer</th>\n",
       "      <th>Inquisitive Guru</th>\n",
       "      <th>Knowledgeable Supporter</th>\n",
       "      <th>Silent Spectator</th>\n",
       "    </tr>\n",
       "    <tr>\n",
       "      <th>year</th>\n",
       "      <th></th>\n",
       "      <th></th>\n",
       "      <th></th>\n",
       "      <th></th>\n",
       "    </tr>\n",
       "  </thead>\n",
       "  <tbody>\n",
       "    <tr>\n",
       "      <th>2015</th>\n",
       "      <td>148.0</td>\n",
       "      <td>9.0</td>\n",
       "      <td>14.0</td>\n",
       "      <td>515.0</td>\n",
       "    </tr>\n",
       "    <tr>\n",
       "      <th>2016</th>\n",
       "      <td>256.0</td>\n",
       "      <td>13.0</td>\n",
       "      <td>26.0</td>\n",
       "      <td>853.0</td>\n",
       "    </tr>\n",
       "    <tr>\n",
       "      <th>2017</th>\n",
       "      <td>323.0</td>\n",
       "      <td>14.0</td>\n",
       "      <td>36.0</td>\n",
       "      <td>1277.0</td>\n",
       "    </tr>\n",
       "    <tr>\n",
       "      <th>2018</th>\n",
       "      <td>NaN</td>\n",
       "      <td>NaN</td>\n",
       "      <td>24.0</td>\n",
       "      <td>181.0</td>\n",
       "    </tr>\n",
       "    <tr>\n",
       "      <th>2019</th>\n",
       "      <td>NaN</td>\n",
       "      <td>NaN</td>\n",
       "      <td>17.0</td>\n",
       "      <td>153.0</td>\n",
       "    </tr>\n",
       "    <tr>\n",
       "      <th>2020</th>\n",
       "      <td>NaN</td>\n",
       "      <td>NaN</td>\n",
       "      <td>10.0</td>\n",
       "      <td>129.0</td>\n",
       "    </tr>\n",
       "    <tr>\n",
       "      <th>2021</th>\n",
       "      <td>NaN</td>\n",
       "      <td>NaN</td>\n",
       "      <td>9.0</td>\n",
       "      <td>115.0</td>\n",
       "    </tr>\n",
       "    <tr>\n",
       "      <th>2022</th>\n",
       "      <td>NaN</td>\n",
       "      <td>NaN</td>\n",
       "      <td>2.0</td>\n",
       "      <td>58.0</td>\n",
       "    </tr>\n",
       "  </tbody>\n",
       "</table>\n",
       "</div>"
      ],
      "text/plain": [
       "persona_name  Curious Observer  Inquisitive Guru  Knowledgeable Supporter  \\\n",
       "year                                                                        \n",
       "2015                     148.0               9.0                     14.0   \n",
       "2016                     256.0              13.0                     26.0   \n",
       "2017                     323.0              14.0                     36.0   \n",
       "2018                       NaN               NaN                     24.0   \n",
       "2019                       NaN               NaN                     17.0   \n",
       "2020                       NaN               NaN                     10.0   \n",
       "2021                       NaN               NaN                      9.0   \n",
       "2022                       NaN               NaN                      2.0   \n",
       "\n",
       "persona_name  Silent Spectator  \n",
       "year                            \n",
       "2015                     515.0  \n",
       "2016                     853.0  \n",
       "2017                    1277.0  \n",
       "2018                     181.0  \n",
       "2019                     153.0  \n",
       "2020                     129.0  \n",
       "2021                     115.0  \n",
       "2022                      58.0  "
      ]
     },
     "execution_count": 85,
     "metadata": {},
     "output_type": "execute_result"
    }
   ],
   "source": [
    "segmentation_year = segmentation.groupby(['year', 'persona_name'])['user_id'].count().unstack()\n",
    "segmentation_year"
   ]
  },
  {
   "cell_type": "code",
   "execution_count": 86,
   "id": "59cdb473",
   "metadata": {},
   "outputs": [
    {
     "data": {
      "image/png": "[encoded data removed]",
      "text/plain": [
       "<Figure size 640x480 with 2 Axes>"
      ]
     },
     "metadata": {},
     "output_type": "display_data"
    }
   ],
   "source": [
    "sns.heatmap(segmentation_year,\n",
    "            annot=True,\n",
    "            fmt=\".0f\",\n",
    "            linewidth=.5,\n",
    "            cmap=\"crest\"\n",
    "            )\n",
    "plt.show()"
   ]
  },
  {
   "cell_type": "markdown",
   "id": "b1c2f101",
   "metadata": {},
   "source": [
    "Menampilkan stacked bar chart berdasarkan `persona_name` dan `year`."
   ]
  },
  {
   "cell_type": "code",
   "execution_count": 87,
   "id": "c2d38761",
   "metadata": {},
   "outputs": [
    {
     "data": {
      "image/png": "[encoded data removed]",
      "text/plain": [
       "<Figure size 640x480 with 1 Axes>"
      ]
     },
     "metadata": {},
     "output_type": "display_data"
    }
   ],
   "source": [
    "segmentation_year.plot(kind = 'bar', stacked = True)\n",
    "plt.show()"
   ]
  },
  {
   "cell_type": "code",
   "execution_count": null,
   "id": "37bfff54",
   "metadata": {},
   "outputs": [],
   "source": []
  }
 ],
 "metadata": {
  "kernelspec": {
   "display_name": "Python 3 (ipykernel)",
   "language": "python",
   "name": "python3"
  },
  "language_info": {
   "codemirror_mode": {
    "name": "ipython",
    "version": 3
   },
   "file_extension": ".py",
   "mimetype": "text/x-python",
   "name": "python",
   "nbconvert_exporter": "python",
   "pygments_lexer": "ipython3",
   "version": "3.10.7"
  }
 },
 "nbformat": 4,
 "nbformat_minor": 5
}
